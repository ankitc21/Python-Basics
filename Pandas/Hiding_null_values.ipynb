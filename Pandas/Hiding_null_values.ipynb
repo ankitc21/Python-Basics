{
 "cells": [
  {
   "cell_type": "code",
   "execution_count": 1,
   "id": "6b2c75aa",
   "metadata": {},
   "outputs": [
    {
     "data": {
      "application/vnd.microsoft.datawrangler.viewer.v0+json": {
       "columns": [
        {
         "name": "index",
         "rawType": "int64",
         "type": "integer"
        },
        {
         "name": "Day",
         "rawType": "object",
         "type": "string"
        },
        {
         "name": "Coffee Type",
         "rawType": "object",
         "type": "string"
        },
        {
         "name": "Units Sold",
         "rawType": "int64",
         "type": "integer"
        }
       ],
       "ref": "736c0da6-cb33-4ce2-b789-69c0c0e6647e",
       "rows": [
        [
         "0",
         "Monday",
         "Espresso",
         "25"
        ],
        [
         "1",
         "Monday",
         "Latte",
         "15"
        ],
        [
         "2",
         "Tuesday",
         "Espresso",
         "30"
        ],
        [
         "3",
         "Tuesday",
         "Latte",
         "20"
        ],
        [
         "4",
         "Wednesday",
         "Espresso",
         "35"
        ]
       ],
       "shape": {
        "columns": 3,
        "rows": 5
       }
      },
      "text/html": [
       "<div>\n",
       "<style scoped>\n",
       "    .dataframe tbody tr th:only-of-type {\n",
       "        vertical-align: middle;\n",
       "    }\n",
       "\n",
       "    .dataframe tbody tr th {\n",
       "        vertical-align: top;\n",
       "    }\n",
       "\n",
       "    .dataframe thead th {\n",
       "        text-align: right;\n",
       "    }\n",
       "</style>\n",
       "<table border=\"1\" class=\"dataframe\">\n",
       "  <thead>\n",
       "    <tr style=\"text-align: right;\">\n",
       "      <th></th>\n",
       "      <th>Day</th>\n",
       "      <th>Coffee Type</th>\n",
       "      <th>Units Sold</th>\n",
       "    </tr>\n",
       "  </thead>\n",
       "  <tbody>\n",
       "    <tr>\n",
       "      <th>0</th>\n",
       "      <td>Monday</td>\n",
       "      <td>Espresso</td>\n",
       "      <td>25</td>\n",
       "    </tr>\n",
       "    <tr>\n",
       "      <th>1</th>\n",
       "      <td>Monday</td>\n",
       "      <td>Latte</td>\n",
       "      <td>15</td>\n",
       "    </tr>\n",
       "    <tr>\n",
       "      <th>2</th>\n",
       "      <td>Tuesday</td>\n",
       "      <td>Espresso</td>\n",
       "      <td>30</td>\n",
       "    </tr>\n",
       "    <tr>\n",
       "      <th>3</th>\n",
       "      <td>Tuesday</td>\n",
       "      <td>Latte</td>\n",
       "      <td>20</td>\n",
       "    </tr>\n",
       "    <tr>\n",
       "      <th>4</th>\n",
       "      <td>Wednesday</td>\n",
       "      <td>Espresso</td>\n",
       "      <td>35</td>\n",
       "    </tr>\n",
       "  </tbody>\n",
       "</table>\n",
       "</div>"
      ],
      "text/plain": [
       "         Day Coffee Type  Units Sold\n",
       "0     Monday    Espresso          25\n",
       "1     Monday       Latte          15\n",
       "2    Tuesday    Espresso          30\n",
       "3    Tuesday       Latte          20\n",
       "4  Wednesday    Espresso          35"
      ]
     },
     "execution_count": 1,
     "metadata": {},
     "output_type": "execute_result"
    }
   ],
   "source": [
    "import numpy as np\n",
    "import pandas as pd\n",
    "coffee=pd.read_csv(r'C:\\Users\\ankit\\Desktop\\Projects\\Data Science\\Pandas\\Data\\coffee.csv')\n",
    "coffee.head()"
   ]
  },
  {
   "cell_type": "code",
   "execution_count": 9,
   "id": "bf952377",
   "metadata": {},
   "outputs": [],
   "source": [
    "#Removing the null values from index 0,1 columns-->\n",
    "\n",
    "coffee.loc[[0,1],'Units Sold']=np.nan"
   ]
  },
  {
   "cell_type": "code",
   "execution_count": 18,
   "id": "ee9cba67",
   "metadata": {},
   "outputs": [
    {
     "name": "stdout",
     "output_type": "stream",
     "text": [
      "<class 'pandas.core.frame.DataFrame'>\n",
      "RangeIndex: 14 entries, 0 to 13\n",
      "Data columns (total 3 columns):\n",
      " #   Column       Non-Null Count  Dtype  \n",
      "---  ------       --------------  -----  \n",
      " 0   Day          14 non-null     object \n",
      " 1   Coffee Type  14 non-null     object \n",
      " 2   Units Sold   12 non-null     float64\n",
      "dtypes: float64(1), object(2)\n",
      "memory usage: 468.0+ bytes\n"
     ]
    }
   ],
   "source": [
    "coffee.info()\n"
   ]
  },
  {
   "cell_type": "code",
   "execution_count": 19,
   "id": "563dfdab",
   "metadata": {},
   "outputs": [
    {
     "data": {
      "application/vnd.microsoft.datawrangler.viewer.v0+json": {
       "columns": [
        {
         "name": "index",
         "rawType": "int64",
         "type": "integer"
        },
        {
         "name": "Day",
         "rawType": "object",
         "type": "string"
        },
        {
         "name": "Coffee Type",
         "rawType": "object",
         "type": "string"
        },
        {
         "name": "Units Sold",
         "rawType": "float64",
         "type": "float"
        }
       ],
       "ref": "43bb86d8-510b-43d3-835b-0d932529490d",
       "rows": [
        [
         "0",
         "Monday",
         "Espresso",
         "35.0"
        ],
        [
         "1",
         "Monday",
         "Latte",
         "35.0"
        ],
        [
         "2",
         "Tuesday",
         "Espresso",
         "30.0"
        ],
        [
         "3",
         "Tuesday",
         "Latte",
         "20.0"
        ],
        [
         "4",
         "Wednesday",
         "Espresso",
         "35.0"
        ],
        [
         "5",
         "Wednesday",
         "Latte",
         "25.0"
        ],
        [
         "6",
         "Thursday",
         "Espresso",
         "40.0"
        ],
        [
         "7",
         "Thursday",
         "Latte",
         "30.0"
        ],
        [
         "8",
         "Friday",
         "Espresso",
         "45.0"
        ],
        [
         "9",
         "Friday",
         "Latte",
         "35.0"
        ],
        [
         "10",
         "Saturday",
         "Espresso",
         "45.0"
        ],
        [
         "11",
         "Saturday",
         "Latte",
         "35.0"
        ],
        [
         "12",
         "Sunday",
         "Espresso",
         "45.0"
        ],
        [
         "13",
         "Sunday",
         "Latte",
         "35.0"
        ]
       ],
       "shape": {
        "columns": 3,
        "rows": 14
       }
      },
      "text/html": [
       "<div>\n",
       "<style scoped>\n",
       "    .dataframe tbody tr th:only-of-type {\n",
       "        vertical-align: middle;\n",
       "    }\n",
       "\n",
       "    .dataframe tbody tr th {\n",
       "        vertical-align: top;\n",
       "    }\n",
       "\n",
       "    .dataframe thead th {\n",
       "        text-align: right;\n",
       "    }\n",
       "</style>\n",
       "<table border=\"1\" class=\"dataframe\">\n",
       "  <thead>\n",
       "    <tr style=\"text-align: right;\">\n",
       "      <th></th>\n",
       "      <th>Day</th>\n",
       "      <th>Coffee Type</th>\n",
       "      <th>Units Sold</th>\n",
       "    </tr>\n",
       "  </thead>\n",
       "  <tbody>\n",
       "    <tr>\n",
       "      <th>0</th>\n",
       "      <td>Monday</td>\n",
       "      <td>Espresso</td>\n",
       "      <td>35.0</td>\n",
       "    </tr>\n",
       "    <tr>\n",
       "      <th>1</th>\n",
       "      <td>Monday</td>\n",
       "      <td>Latte</td>\n",
       "      <td>35.0</td>\n",
       "    </tr>\n",
       "    <tr>\n",
       "      <th>2</th>\n",
       "      <td>Tuesday</td>\n",
       "      <td>Espresso</td>\n",
       "      <td>30.0</td>\n",
       "    </tr>\n",
       "    <tr>\n",
       "      <th>3</th>\n",
       "      <td>Tuesday</td>\n",
       "      <td>Latte</td>\n",
       "      <td>20.0</td>\n",
       "    </tr>\n",
       "    <tr>\n",
       "      <th>4</th>\n",
       "      <td>Wednesday</td>\n",
       "      <td>Espresso</td>\n",
       "      <td>35.0</td>\n",
       "    </tr>\n",
       "    <tr>\n",
       "      <th>5</th>\n",
       "      <td>Wednesday</td>\n",
       "      <td>Latte</td>\n",
       "      <td>25.0</td>\n",
       "    </tr>\n",
       "    <tr>\n",
       "      <th>6</th>\n",
       "      <td>Thursday</td>\n",
       "      <td>Espresso</td>\n",
       "      <td>40.0</td>\n",
       "    </tr>\n",
       "    <tr>\n",
       "      <th>7</th>\n",
       "      <td>Thursday</td>\n",
       "      <td>Latte</td>\n",
       "      <td>30.0</td>\n",
       "    </tr>\n",
       "    <tr>\n",
       "      <th>8</th>\n",
       "      <td>Friday</td>\n",
       "      <td>Espresso</td>\n",
       "      <td>45.0</td>\n",
       "    </tr>\n",
       "    <tr>\n",
       "      <th>9</th>\n",
       "      <td>Friday</td>\n",
       "      <td>Latte</td>\n",
       "      <td>35.0</td>\n",
       "    </tr>\n",
       "    <tr>\n",
       "      <th>10</th>\n",
       "      <td>Saturday</td>\n",
       "      <td>Espresso</td>\n",
       "      <td>45.0</td>\n",
       "    </tr>\n",
       "    <tr>\n",
       "      <th>11</th>\n",
       "      <td>Saturday</td>\n",
       "      <td>Latte</td>\n",
       "      <td>35.0</td>\n",
       "    </tr>\n",
       "    <tr>\n",
       "      <th>12</th>\n",
       "      <td>Sunday</td>\n",
       "      <td>Espresso</td>\n",
       "      <td>45.0</td>\n",
       "    </tr>\n",
       "    <tr>\n",
       "      <th>13</th>\n",
       "      <td>Sunday</td>\n",
       "      <td>Latte</td>\n",
       "      <td>35.0</td>\n",
       "    </tr>\n",
       "  </tbody>\n",
       "</table>\n",
       "</div>"
      ],
      "text/plain": [
       "          Day Coffee Type  Units Sold\n",
       "0      Monday    Espresso        35.0\n",
       "1      Monday       Latte        35.0\n",
       "2     Tuesday    Espresso        30.0\n",
       "3     Tuesday       Latte        20.0\n",
       "4   Wednesday    Espresso        35.0\n",
       "5   Wednesday       Latte        25.0\n",
       "6    Thursday    Espresso        40.0\n",
       "7    Thursday       Latte        30.0\n",
       "8      Friday    Espresso        45.0\n",
       "9      Friday       Latte        35.0\n",
       "10   Saturday    Espresso        45.0\n",
       "11   Saturday       Latte        35.0\n",
       "12     Sunday    Espresso        45.0\n",
       "13     Sunday       Latte        35.0"
      ]
     },
     "execution_count": 19,
     "metadata": {},
     "output_type": "execute_result"
    }
   ],
   "source": [
    "coffee=coffee.fillna(coffee['Units Sold'].mean())\n",
    "coffee\n"
   ]
  },
  {
   "cell_type": "code",
   "execution_count": 20,
   "id": "1db25254",
   "metadata": {},
   "outputs": [
    {
     "data": {
      "application/vnd.microsoft.datawrangler.viewer.v0+json": {
       "columns": [
        {
         "name": "index",
         "rawType": "int64",
         "type": "integer"
        },
        {
         "name": "Units Sold",
         "rawType": "float64",
         "type": "float"
        }
       ],
       "ref": "3911ea17-b0fe-4fc1-860e-91db7578c04f",
       "rows": [
        [
         "0",
         "35.0"
        ],
        [
         "1",
         "35.0"
        ],
        [
         "2",
         "30.0"
        ],
        [
         "3",
         "20.0"
        ],
        [
         "4",
         "35.0"
        ],
        [
         "5",
         "25.0"
        ],
        [
         "6",
         "40.0"
        ],
        [
         "7",
         "30.0"
        ],
        [
         "8",
         "45.0"
        ],
        [
         "9",
         "35.0"
        ],
        [
         "10",
         "45.0"
        ],
        [
         "11",
         "35.0"
        ],
        [
         "12",
         "45.0"
        ],
        [
         "13",
         "35.0"
        ]
       ],
       "shape": {
        "columns": 1,
        "rows": 14
       }
      },
      "text/plain": [
       "0     35.0\n",
       "1     35.0\n",
       "2     30.0\n",
       "3     20.0\n",
       "4     35.0\n",
       "5     25.0\n",
       "6     40.0\n",
       "7     30.0\n",
       "8     45.0\n",
       "9     35.0\n",
       "10    45.0\n",
       "11    35.0\n",
       "12    45.0\n",
       "13    35.0\n",
       "Name: Units Sold, dtype: float64"
      ]
     },
     "execution_count": 20,
     "metadata": {},
     "output_type": "execute_result"
    }
   ],
   "source": [
    "coffee['Units Sold'].interpolate()"
   ]
  },
  {
   "cell_type": "code",
   "execution_count": 24,
   "id": "d4dcfc79",
   "metadata": {},
   "outputs": [
    {
     "data": {
      "application/vnd.microsoft.datawrangler.viewer.v0+json": {
       "columns": [
        {
         "name": "index",
         "rawType": "int64",
         "type": "integer"
        },
        {
         "name": "Day",
         "rawType": "object",
         "type": "string"
        },
        {
         "name": "Coffee Type",
         "rawType": "object",
         "type": "string"
        },
        {
         "name": "Units Sold",
         "rawType": "float64",
         "type": "float"
        }
       ],
       "ref": "fdc9a1e6-949b-4d6c-b478-4026ca85e9dc",
       "rows": [
        [
         "0",
         "Monday",
         "Espresso",
         "35.0"
        ],
        [
         "1",
         "Monday",
         "Latte",
         "35.0"
        ],
        [
         "2",
         "Tuesday",
         "Espresso",
         "30.0"
        ],
        [
         "3",
         "Tuesday",
         "Latte",
         "20.0"
        ],
        [
         "4",
         "Wednesday",
         "Espresso",
         "35.0"
        ],
        [
         "5",
         "Wednesday",
         "Latte",
         "25.0"
        ],
        [
         "6",
         "Thursday",
         "Espresso",
         "40.0"
        ],
        [
         "7",
         "Thursday",
         "Latte",
         "30.0"
        ],
        [
         "8",
         "Friday",
         "Espresso",
         "45.0"
        ],
        [
         "9",
         "Friday",
         "Latte",
         "35.0"
        ],
        [
         "10",
         "Saturday",
         "Espresso",
         "45.0"
        ],
        [
         "11",
         "Saturday",
         "Latte",
         "35.0"
        ],
        [
         "12",
         "Sunday",
         "Espresso",
         "45.0"
        ],
        [
         "13",
         "Sunday",
         "Latte",
         "35.0"
        ]
       ],
       "shape": {
        "columns": 3,
        "rows": 14
       }
      },
      "text/html": [
       "<div>\n",
       "<style scoped>\n",
       "    .dataframe tbody tr th:only-of-type {\n",
       "        vertical-align: middle;\n",
       "    }\n",
       "\n",
       "    .dataframe tbody tr th {\n",
       "        vertical-align: top;\n",
       "    }\n",
       "\n",
       "    .dataframe thead th {\n",
       "        text-align: right;\n",
       "    }\n",
       "</style>\n",
       "<table border=\"1\" class=\"dataframe\">\n",
       "  <thead>\n",
       "    <tr style=\"text-align: right;\">\n",
       "      <th></th>\n",
       "      <th>Day</th>\n",
       "      <th>Coffee Type</th>\n",
       "      <th>Units Sold</th>\n",
       "    </tr>\n",
       "  </thead>\n",
       "  <tbody>\n",
       "    <tr>\n",
       "      <th>0</th>\n",
       "      <td>Monday</td>\n",
       "      <td>Espresso</td>\n",
       "      <td>35.0</td>\n",
       "    </tr>\n",
       "    <tr>\n",
       "      <th>1</th>\n",
       "      <td>Monday</td>\n",
       "      <td>Latte</td>\n",
       "      <td>35.0</td>\n",
       "    </tr>\n",
       "    <tr>\n",
       "      <th>2</th>\n",
       "      <td>Tuesday</td>\n",
       "      <td>Espresso</td>\n",
       "      <td>30.0</td>\n",
       "    </tr>\n",
       "    <tr>\n",
       "      <th>3</th>\n",
       "      <td>Tuesday</td>\n",
       "      <td>Latte</td>\n",
       "      <td>20.0</td>\n",
       "    </tr>\n",
       "    <tr>\n",
       "      <th>4</th>\n",
       "      <td>Wednesday</td>\n",
       "      <td>Espresso</td>\n",
       "      <td>35.0</td>\n",
       "    </tr>\n",
       "    <tr>\n",
       "      <th>5</th>\n",
       "      <td>Wednesday</td>\n",
       "      <td>Latte</td>\n",
       "      <td>25.0</td>\n",
       "    </tr>\n",
       "    <tr>\n",
       "      <th>6</th>\n",
       "      <td>Thursday</td>\n",
       "      <td>Espresso</td>\n",
       "      <td>40.0</td>\n",
       "    </tr>\n",
       "    <tr>\n",
       "      <th>7</th>\n",
       "      <td>Thursday</td>\n",
       "      <td>Latte</td>\n",
       "      <td>30.0</td>\n",
       "    </tr>\n",
       "    <tr>\n",
       "      <th>8</th>\n",
       "      <td>Friday</td>\n",
       "      <td>Espresso</td>\n",
       "      <td>45.0</td>\n",
       "    </tr>\n",
       "    <tr>\n",
       "      <th>9</th>\n",
       "      <td>Friday</td>\n",
       "      <td>Latte</td>\n",
       "      <td>35.0</td>\n",
       "    </tr>\n",
       "    <tr>\n",
       "      <th>10</th>\n",
       "      <td>Saturday</td>\n",
       "      <td>Espresso</td>\n",
       "      <td>45.0</td>\n",
       "    </tr>\n",
       "    <tr>\n",
       "      <th>11</th>\n",
       "      <td>Saturday</td>\n",
       "      <td>Latte</td>\n",
       "      <td>35.0</td>\n",
       "    </tr>\n",
       "    <tr>\n",
       "      <th>12</th>\n",
       "      <td>Sunday</td>\n",
       "      <td>Espresso</td>\n",
       "      <td>45.0</td>\n",
       "    </tr>\n",
       "    <tr>\n",
       "      <th>13</th>\n",
       "      <td>Sunday</td>\n",
       "      <td>Latte</td>\n",
       "      <td>35.0</td>\n",
       "    </tr>\n",
       "  </tbody>\n",
       "</table>\n",
       "</div>"
      ],
      "text/plain": [
       "          Day Coffee Type  Units Sold\n",
       "0      Monday    Espresso        35.0\n",
       "1      Monday       Latte        35.0\n",
       "2     Tuesday    Espresso        30.0\n",
       "3     Tuesday       Latte        20.0\n",
       "4   Wednesday    Espresso        35.0\n",
       "5   Wednesday       Latte        25.0\n",
       "6    Thursday    Espresso        40.0\n",
       "7    Thursday       Latte        30.0\n",
       "8      Friday    Espresso        45.0\n",
       "9      Friday       Latte        35.0\n",
       "10   Saturday    Espresso        45.0\n",
       "11   Saturday       Latte        35.0\n",
       "12     Sunday    Espresso        45.0\n",
       "13     Sunday       Latte        35.0"
      ]
     },
     "execution_count": 24,
     "metadata": {},
     "output_type": "execute_result"
    }
   ],
   "source": [
    "coffee.dropna(subset=['Units Sold'])"
   ]
  },
  {
   "cell_type": "code",
   "execution_count": 10,
   "id": "6b125648",
   "metadata": {},
   "outputs": [
    {
     "data": {
      "application/vnd.microsoft.datawrangler.viewer.v0+json": {
       "columns": [
        {
         "name": "born_region",
         "rawType": "object",
         "type": "string"
        },
        {
         "name": "count",
         "rawType": "int64",
         "type": "integer"
        }
       ],
       "ref": "862558eb-8344-409d-9dd0-8c7e460c0af8",
       "rows": [
        [
         "South Dakota",
         "27"
        ],
        [
         "West Virginia",
         "24"
        ],
        [
         "Delaware",
         "22"
        ],
        [
         "North Dakota",
         "16"
        ],
        [
         "Wyoming",
         "14"
        ]
       ],
       "shape": {
        "columns": 1,
        "rows": 5
       }
      },
      "text/plain": [
       "born_region\n",
       "South Dakota     27\n",
       "West Virginia    24\n",
       "Delaware         22\n",
       "North Dakota     16\n",
       "Wyoming          14\n",
       "Name: count, dtype: int64"
      ]
     },
     "execution_count": 10,
     "metadata": {},
     "output_type": "execute_result"
    }
   ],
   "source": [
    "#Aggregating data-->\n",
    "bios=pd.read_csv(r'C:\\Users\\ankit\\Desktop\\Projects\\Data Science\\Pandas\\Data\\bios.csv')\n",
    "length=bios[bios['born_country']==\"USA\"]['born_region'].value_counts()\n",
    "length.head()\n",
    "length.tail()\n"
   ]
  },
  {
   "cell_type": "code",
   "execution_count": 35,
   "id": "93eef2b6",
   "metadata": {},
   "outputs": [
    {
     "data": {
      "application/vnd.microsoft.datawrangler.viewer.v0+json": {
       "columns": [
        {
         "name": "Coffee Type",
         "rawType": "object",
         "type": "string"
        },
        {
         "name": "Units Sold",
         "rawType": "float64",
         "type": "float"
        }
       ],
       "ref": "6e661c50-ab20-4b46-bbf6-7854db6d2e86",
       "rows": [
        [
         "Espresso",
         "275.0"
        ],
        [
         "Latte",
         "215.0"
        ]
       ],
       "shape": {
        "columns": 1,
        "rows": 2
       }
      },
      "text/plain": [
       "Coffee Type\n",
       "Espresso    275.0\n",
       "Latte       215.0\n",
       "Name: Units Sold, dtype: float64"
      ]
     },
     "execution_count": 35,
     "metadata": {},
     "output_type": "execute_result"
    }
   ],
   "source": [
    "coffee.groupby(['Coffee Type'])['Units Sold'].sum()"
   ]
  },
  {
   "cell_type": "code",
   "execution_count": 36,
   "id": "0e099bd7",
   "metadata": {},
   "outputs": [
    {
     "data": {
      "application/vnd.microsoft.datawrangler.viewer.v0+json": {
       "columns": [
        {
         "name": "Coffee Type",
         "rawType": "object",
         "type": "string"
        },
        {
         "name": "Units Sold",
         "rawType": "float64",
         "type": "float"
        }
       ],
       "ref": "b8ec75d3-51db-46b4-834f-7ce9a196bf76",
       "rows": [
        [
         "Espresso",
         "39.285714285714285"
        ],
        [
         "Latte",
         "30.714285714285715"
        ]
       ],
       "shape": {
        "columns": 1,
        "rows": 2
       }
      },
      "text/plain": [
       "Coffee Type\n",
       "Espresso    39.285714\n",
       "Latte       30.714286\n",
       "Name: Units Sold, dtype: float64"
      ]
     },
     "execution_count": 36,
     "metadata": {},
     "output_type": "execute_result"
    }
   ],
   "source": [
    "coffee.groupby(['Coffee Type'])['Units Sold'].mean()"
   ]
  },
  {
   "cell_type": "code",
   "execution_count": 48,
   "id": "5736aea9",
   "metadata": {},
   "outputs": [
    {
     "data": {
      "application/vnd.microsoft.datawrangler.viewer.v0+json": {
       "columns": [
        {
         "name": "index",
         "rawType": "int64",
         "type": "integer"
        },
        {
         "name": "Day",
         "rawType": "object",
         "type": "string"
        },
        {
         "name": "Coffee Type",
         "rawType": "object",
         "type": "string"
        },
        {
         "name": "Units Sold",
         "rawType": "float64",
         "type": "float"
        }
       ],
       "ref": "2f269113-447d-4cc7-991f-5fe7f75dac9a",
       "rows": [
        [
         "0",
         "Monday",
         "Espresso",
         "35.0"
        ],
        [
         "1",
         "Monday",
         "Latte",
         "35.0"
        ],
        [
         "2",
         "Tuesday",
         "Espresso",
         "30.0"
        ],
        [
         "3",
         "Tuesday",
         "Latte",
         "20.0"
        ],
        [
         "4",
         "Wednesday",
         "Espresso",
         "35.0"
        ],
        [
         "5",
         "Wednesday",
         "Latte",
         "25.0"
        ],
        [
         "6",
         "Thursday",
         "Espresso",
         "40.0"
        ],
        [
         "7",
         "Thursday",
         "Latte",
         "30.0"
        ],
        [
         "8",
         "Friday",
         "Espresso",
         "45.0"
        ],
        [
         "9",
         "Friday",
         "Latte",
         "35.0"
        ],
        [
         "10",
         "Saturday",
         "Espresso",
         "45.0"
        ],
        [
         "11",
         "Saturday",
         "Latte",
         "35.0"
        ],
        [
         "12",
         "Sunday",
         "Espresso",
         "45.0"
        ],
        [
         "13",
         "Sunday",
         "Latte",
         "35.0"
        ]
       ],
       "shape": {
        "columns": 3,
        "rows": 14
       }
      },
      "text/html": [
       "<div>\n",
       "<style scoped>\n",
       "    .dataframe tbody tr th:only-of-type {\n",
       "        vertical-align: middle;\n",
       "    }\n",
       "\n",
       "    .dataframe tbody tr th {\n",
       "        vertical-align: top;\n",
       "    }\n",
       "\n",
       "    .dataframe thead th {\n",
       "        text-align: right;\n",
       "    }\n",
       "</style>\n",
       "<table border=\"1\" class=\"dataframe\">\n",
       "  <thead>\n",
       "    <tr style=\"text-align: right;\">\n",
       "      <th></th>\n",
       "      <th>Day</th>\n",
       "      <th>Coffee Type</th>\n",
       "      <th>Units Sold</th>\n",
       "    </tr>\n",
       "  </thead>\n",
       "  <tbody>\n",
       "    <tr>\n",
       "      <th>0</th>\n",
       "      <td>Monday</td>\n",
       "      <td>Espresso</td>\n",
       "      <td>35.0</td>\n",
       "    </tr>\n",
       "    <tr>\n",
       "      <th>1</th>\n",
       "      <td>Monday</td>\n",
       "      <td>Latte</td>\n",
       "      <td>35.0</td>\n",
       "    </tr>\n",
       "    <tr>\n",
       "      <th>2</th>\n",
       "      <td>Tuesday</td>\n",
       "      <td>Espresso</td>\n",
       "      <td>30.0</td>\n",
       "    </tr>\n",
       "    <tr>\n",
       "      <th>3</th>\n",
       "      <td>Tuesday</td>\n",
       "      <td>Latte</td>\n",
       "      <td>20.0</td>\n",
       "    </tr>\n",
       "    <tr>\n",
       "      <th>4</th>\n",
       "      <td>Wednesday</td>\n",
       "      <td>Espresso</td>\n",
       "      <td>35.0</td>\n",
       "    </tr>\n",
       "    <tr>\n",
       "      <th>5</th>\n",
       "      <td>Wednesday</td>\n",
       "      <td>Latte</td>\n",
       "      <td>25.0</td>\n",
       "    </tr>\n",
       "    <tr>\n",
       "      <th>6</th>\n",
       "      <td>Thursday</td>\n",
       "      <td>Espresso</td>\n",
       "      <td>40.0</td>\n",
       "    </tr>\n",
       "    <tr>\n",
       "      <th>7</th>\n",
       "      <td>Thursday</td>\n",
       "      <td>Latte</td>\n",
       "      <td>30.0</td>\n",
       "    </tr>\n",
       "    <tr>\n",
       "      <th>8</th>\n",
       "      <td>Friday</td>\n",
       "      <td>Espresso</td>\n",
       "      <td>45.0</td>\n",
       "    </tr>\n",
       "    <tr>\n",
       "      <th>9</th>\n",
       "      <td>Friday</td>\n",
       "      <td>Latte</td>\n",
       "      <td>35.0</td>\n",
       "    </tr>\n",
       "    <tr>\n",
       "      <th>10</th>\n",
       "      <td>Saturday</td>\n",
       "      <td>Espresso</td>\n",
       "      <td>45.0</td>\n",
       "    </tr>\n",
       "    <tr>\n",
       "      <th>11</th>\n",
       "      <td>Saturday</td>\n",
       "      <td>Latte</td>\n",
       "      <td>35.0</td>\n",
       "    </tr>\n",
       "    <tr>\n",
       "      <th>12</th>\n",
       "      <td>Sunday</td>\n",
       "      <td>Espresso</td>\n",
       "      <td>45.0</td>\n",
       "    </tr>\n",
       "    <tr>\n",
       "      <th>13</th>\n",
       "      <td>Sunday</td>\n",
       "      <td>Latte</td>\n",
       "      <td>35.0</td>\n",
       "    </tr>\n",
       "  </tbody>\n",
       "</table>\n",
       "</div>"
      ],
      "text/plain": [
       "          Day Coffee Type  Units Sold\n",
       "0      Monday    Espresso        35.0\n",
       "1      Monday       Latte        35.0\n",
       "2     Tuesday    Espresso        30.0\n",
       "3     Tuesday       Latte        20.0\n",
       "4   Wednesday    Espresso        35.0\n",
       "5   Wednesday       Latte        25.0\n",
       "6    Thursday    Espresso        40.0\n",
       "7    Thursday       Latte        30.0\n",
       "8      Friday    Espresso        45.0\n",
       "9      Friday       Latte        35.0\n",
       "10   Saturday    Espresso        45.0\n",
       "11   Saturday       Latte        35.0\n",
       "12     Sunday    Espresso        45.0\n",
       "13     Sunday       Latte        35.0"
      ]
     },
     "execution_count": 48,
     "metadata": {},
     "output_type": "execute_result"
    }
   ],
   "source": [
    "coffee"
   ]
  },
  {
   "cell_type": "code",
   "execution_count": 11,
   "id": "7ceed9af",
   "metadata": {},
   "outputs": [
    {
     "data": {
      "application/vnd.microsoft.datawrangler.viewer.v0+json": {
       "columns": [
        {
         "name": "Day",
         "rawType": "object",
         "type": "string"
        },
        {
         "name": "Espresso",
         "rawType": "float64",
         "type": "float"
        },
        {
         "name": "Latte",
         "rawType": "float64",
         "type": "float"
        }
       ],
       "ref": "fc793286-107b-4ad7-b72a-b17032fecd36",
       "rows": [
        [
         "Friday",
         "179.55",
         "209.65"
        ],
        [
         "Monday",
         null,
         null
        ],
        [
         "Saturday",
         "179.55",
         "209.65"
        ],
        [
         "Sunday",
         "179.55",
         "209.65"
        ],
        [
         "Thursday",
         "159.60000000000002",
         "179.70000000000002"
        ],
        [
         "Tuesday",
         "119.7",
         "119.80000000000001"
        ],
        [
         "Wednesday",
         "139.65",
         "149.75"
        ]
       ],
       "shape": {
        "columns": 2,
        "rows": 7
       }
      },
      "text/html": [
       "<div>\n",
       "<style scoped>\n",
       "    .dataframe tbody tr th:only-of-type {\n",
       "        vertical-align: middle;\n",
       "    }\n",
       "\n",
       "    .dataframe tbody tr th {\n",
       "        vertical-align: top;\n",
       "    }\n",
       "\n",
       "    .dataframe thead th {\n",
       "        text-align: right;\n",
       "    }\n",
       "</style>\n",
       "<table border=\"1\" class=\"dataframe\">\n",
       "  <thead>\n",
       "    <tr style=\"text-align: right;\">\n",
       "      <th>Coffee Type</th>\n",
       "      <th>Espresso</th>\n",
       "      <th>Latte</th>\n",
       "    </tr>\n",
       "    <tr>\n",
       "      <th>Day</th>\n",
       "      <th></th>\n",
       "      <th></th>\n",
       "    </tr>\n",
       "  </thead>\n",
       "  <tbody>\n",
       "    <tr>\n",
       "      <th>Friday</th>\n",
       "      <td>179.55</td>\n",
       "      <td>209.65</td>\n",
       "    </tr>\n",
       "    <tr>\n",
       "      <th>Monday</th>\n",
       "      <td>NaN</td>\n",
       "      <td>NaN</td>\n",
       "    </tr>\n",
       "    <tr>\n",
       "      <th>Saturday</th>\n",
       "      <td>179.55</td>\n",
       "      <td>209.65</td>\n",
       "    </tr>\n",
       "    <tr>\n",
       "      <th>Sunday</th>\n",
       "      <td>179.55</td>\n",
       "      <td>209.65</td>\n",
       "    </tr>\n",
       "    <tr>\n",
       "      <th>Thursday</th>\n",
       "      <td>159.60</td>\n",
       "      <td>179.70</td>\n",
       "    </tr>\n",
       "    <tr>\n",
       "      <th>Tuesday</th>\n",
       "      <td>119.70</td>\n",
       "      <td>119.80</td>\n",
       "    </tr>\n",
       "    <tr>\n",
       "      <th>Wednesday</th>\n",
       "      <td>139.65</td>\n",
       "      <td>149.75</td>\n",
       "    </tr>\n",
       "  </tbody>\n",
       "</table>\n",
       "</div>"
      ],
      "text/plain": [
       "Coffee Type  Espresso   Latte\n",
       "Day                          \n",
       "Friday         179.55  209.65\n",
       "Monday            NaN     NaN\n",
       "Saturday       179.55  209.65\n",
       "Sunday         179.55  209.65\n",
       "Thursday       159.60  179.70\n",
       "Tuesday        119.70  119.80\n",
       "Wednesday      139.65  149.75"
      ]
     },
     "execution_count": 11,
     "metadata": {},
     "output_type": "execute_result"
    }
   ],
   "source": [
    "coffee['price']=np.where(coffee['Coffee Type']=='Espresso',3.99,5.99)\n",
    "coffee['revenue']=coffee['Units Sold']*coffee['price']\n",
    "pivot=coffee.pivot(columns='Coffee Type',index='Day',values='revenue')\n",
    "pivot"
   ]
  },
  {
   "cell_type": "code",
   "execution_count": 7,
   "id": "fa9c6efd",
   "metadata": {},
   "outputs": [
    {
     "data": {
      "application/vnd.microsoft.datawrangler.viewer.v0+json": {
       "columns": [
        {
         "name": "index",
         "rawType": "int64",
         "type": "integer"
        },
        {
         "name": "born_date",
         "rawType": "float64",
         "type": "float"
        },
        {
         "name": "name",
         "rawType": "int64",
         "type": "integer"
        }
       ],
       "ref": "1718a1c6-3500-4cd9-811e-8d9a1e02d5b5",
       "rows": [
        [
         "0",
         "1828.0",
         "1"
        ],
        [
         "2",
         "1833.0",
         "1"
        ],
        [
         "3",
         "1836.0",
         "1"
        ],
        [
         "4",
         "1837.0",
         "1"
        ],
        [
         "6",
         "1839.0",
         "1"
        ],
        [
         "5",
         "1838.0",
         "1"
        ],
        [
         "12",
         "1845.0",
         "1"
        ],
        [
         "10",
         "1843.0",
         "1"
        ],
        [
         "176",
         "2009.0",
         "1"
        ],
        [
         "9",
         "1842.0",
         "2"
        ],
        [
         "8",
         "1841.0",
         "2"
        ],
        [
         "1",
         "1831.0",
         "2"
        ],
        [
         "11",
         "1844.0",
         "3"
        ],
        [
         "174",
         "2007.0",
         "3"
        ],
        [
         "175",
         "2008.0",
         "3"
        ],
        [
         "7",
         "1840.0",
         "3"
        ],
        [
         "18",
         "1851.0",
         "4"
        ],
        [
         "16",
         "1849.0",
         "5"
        ],
        [
         "15",
         "1848.0",
         "5"
        ],
        [
         "13",
         "1846.0",
         "6"
        ],
        [
         "14",
         "1847.0",
         "7"
        ],
        [
         "17",
         "1850.0",
         "10"
        ],
        [
         "24",
         "1857.0",
         "13"
        ],
        [
         "20",
         "1853.0",
         "13"
        ],
        [
         "19",
         "1852.0",
         "15"
        ],
        [
         "25",
         "1858.0",
         "16"
        ],
        [
         "173",
         "2006.0",
         "17"
        ],
        [
         "21",
         "1854.0",
         "17"
        ],
        [
         "22",
         "1855.0",
         "18"
        ],
        [
         "27",
         "1860.0",
         "19"
        ],
        [
         "26",
         "1859.0",
         "23"
        ],
        [
         "23",
         "1856.0",
         "25"
        ],
        [
         "29",
         "1862.0",
         "28"
        ],
        [
         "28",
         "1861.0",
         "32"
        ],
        [
         "30",
         "1863.0",
         "38"
        ],
        [
         "32",
         "1865.0",
         "50"
        ],
        [
         "31",
         "1864.0",
         "54"
        ],
        [
         "33",
         "1866.0",
         "56"
        ],
        [
         "34",
         "1867.0",
         "68"
        ],
        [
         "35",
         "1868.0",
         "70"
        ],
        [
         "36",
         "1869.0",
         "70"
        ],
        [
         "38",
         "1871.0",
         "86"
        ],
        [
         "37",
         "1870.0",
         "87"
        ],
        [
         "40",
         "1873.0",
         "106"
        ],
        [
         "39",
         "1872.0",
         "119"
        ],
        [
         "41",
         "1874.0",
         "155"
        ],
        [
         "172",
         "2005.0",
         "163"
        ],
        [
         "42",
         "1875.0",
         "181"
        ],
        [
         "43",
         "1876.0",
         "184"
        ],
        [
         "44",
         "1877.0",
         "193"
        ]
       ],
       "shape": {
        "columns": 2,
        "rows": 177
       }
      },
      "text/html": [
       "<div>\n",
       "<style scoped>\n",
       "    .dataframe tbody tr th:only-of-type {\n",
       "        vertical-align: middle;\n",
       "    }\n",
       "\n",
       "    .dataframe tbody tr th {\n",
       "        vertical-align: top;\n",
       "    }\n",
       "\n",
       "    .dataframe thead th {\n",
       "        text-align: right;\n",
       "    }\n",
       "</style>\n",
       "<table border=\"1\" class=\"dataframe\">\n",
       "  <thead>\n",
       "    <tr style=\"text-align: right;\">\n",
       "      <th></th>\n",
       "      <th>born_date</th>\n",
       "      <th>name</th>\n",
       "    </tr>\n",
       "  </thead>\n",
       "  <tbody>\n",
       "    <tr>\n",
       "      <th>0</th>\n",
       "      <td>1828.0</td>\n",
       "      <td>1</td>\n",
       "    </tr>\n",
       "    <tr>\n",
       "      <th>2</th>\n",
       "      <td>1833.0</td>\n",
       "      <td>1</td>\n",
       "    </tr>\n",
       "    <tr>\n",
       "      <th>3</th>\n",
       "      <td>1836.0</td>\n",
       "      <td>1</td>\n",
       "    </tr>\n",
       "    <tr>\n",
       "      <th>4</th>\n",
       "      <td>1837.0</td>\n",
       "      <td>1</td>\n",
       "    </tr>\n",
       "    <tr>\n",
       "      <th>6</th>\n",
       "      <td>1839.0</td>\n",
       "      <td>1</td>\n",
       "    </tr>\n",
       "    <tr>\n",
       "      <th>...</th>\n",
       "      <td>...</td>\n",
       "      <td>...</td>\n",
       "    </tr>\n",
       "    <tr>\n",
       "      <th>137</th>\n",
       "      <td>1970.0</td>\n",
       "      <td>2174</td>\n",
       "    </tr>\n",
       "    <tr>\n",
       "      <th>138</th>\n",
       "      <td>1971.0</td>\n",
       "      <td>2205</td>\n",
       "    </tr>\n",
       "    <tr>\n",
       "      <th>140</th>\n",
       "      <td>1973.0</td>\n",
       "      <td>2216</td>\n",
       "    </tr>\n",
       "    <tr>\n",
       "      <th>152</th>\n",
       "      <td>1985.0</td>\n",
       "      <td>2227</td>\n",
       "    </tr>\n",
       "    <tr>\n",
       "      <th>139</th>\n",
       "      <td>1972.0</td>\n",
       "      <td>2231</td>\n",
       "    </tr>\n",
       "  </tbody>\n",
       "</table>\n",
       "<p>177 rows × 2 columns</p>\n",
       "</div>"
      ],
      "text/plain": [
       "     born_date  name\n",
       "0       1828.0     1\n",
       "2       1833.0     1\n",
       "3       1836.0     1\n",
       "4       1837.0     1\n",
       "6       1839.0     1\n",
       "..         ...   ...\n",
       "137     1970.0  2174\n",
       "138     1971.0  2205\n",
       "140     1973.0  2216\n",
       "152     1985.0  2227\n",
       "139     1972.0  2231\n",
       "\n",
       "[177 rows x 2 columns]"
      ]
     },
     "execution_count": 7,
     "metadata": {},
     "output_type": "execute_result"
    }
   ],
   "source": [
    "#Aggregating data-->\n",
    "bios['born_date']=pd.to_datetime(bios['born_date'])\n",
    "bios['month_born']=bios['born_date'].dt.month\n",
    "bios['year_born']=bios['born_date'].dt.year\n",
    "bios.groupby(bios['born_date'].dt.year)['name'].count().reset_index().sort_values('name',ascending=True)"
   ]
  },
  {
   "cell_type": "code",
   "execution_count": 19,
   "id": "e653898b",
   "metadata": {},
   "outputs": [
    {
     "data": {
      "application/vnd.microsoft.datawrangler.viewer.v0+json": {
       "columns": [
        {
         "name": "index",
         "rawType": "int64",
         "type": "integer"
        },
        {
         "name": "Day",
         "rawType": "object",
         "type": "string"
        },
        {
         "name": "Coffee Type",
         "rawType": "object",
         "type": "string"
        },
        {
         "name": "Units Sold",
         "rawType": "float64",
         "type": "float"
        },
        {
         "name": "price",
         "rawType": "float64",
         "type": "float"
        },
        {
         "name": "revenue",
         "rawType": "float64",
         "type": "float"
        },
        {
         "name": "yesterday_revenue",
         "rawType": "float64",
         "type": "float"
        }
       ],
       "ref": "080e6764-b623-4239-80f4-4f2334b5e882",
       "rows": [
        [
         "0",
         "Monday",
         "Espresso",
         null,
         "3.99",
         null,
         null
        ],
        [
         "1",
         "Monday",
         "Latte",
         null,
         "5.99",
         null,
         null
        ],
        [
         "2",
         "Tuesday",
         "Espresso",
         "30.0",
         "3.99",
         "119.7",
         null
        ],
        [
         "3",
         "Tuesday",
         "Latte",
         "20.0",
         "5.99",
         "119.80000000000001",
         null
        ],
        [
         "4",
         "Wednesday",
         "Espresso",
         "35.0",
         "3.99",
         "139.65",
         "119.7"
        ],
        [
         "5",
         "Wednesday",
         "Latte",
         "25.0",
         "5.99",
         "149.75",
         "119.80000000000001"
        ],
        [
         "6",
         "Thursday",
         "Espresso",
         "40.0",
         "3.99",
         "159.60000000000002",
         "139.65"
        ],
        [
         "7",
         "Thursday",
         "Latte",
         "30.0",
         "5.99",
         "179.70000000000002",
         "149.75"
        ],
        [
         "8",
         "Friday",
         "Espresso",
         "45.0",
         "3.99",
         "179.55",
         "159.60000000000002"
        ],
        [
         "9",
         "Friday",
         "Latte",
         "35.0",
         "5.99",
         "209.65",
         "179.70000000000002"
        ],
        [
         "10",
         "Saturday",
         "Espresso",
         "45.0",
         "3.99",
         "179.55",
         "179.55"
        ],
        [
         "11",
         "Saturday",
         "Latte",
         "35.0",
         "5.99",
         "209.65",
         "209.65"
        ],
        [
         "12",
         "Sunday",
         "Espresso",
         "45.0",
         "3.99",
         "179.55",
         "179.55"
        ],
        [
         "13",
         "Sunday",
         "Latte",
         "35.0",
         "5.99",
         "209.65",
         "209.65"
        ]
       ],
       "shape": {
        "columns": 6,
        "rows": 14
       }
      },
      "text/html": [
       "<div>\n",
       "<style scoped>\n",
       "    .dataframe tbody tr th:only-of-type {\n",
       "        vertical-align: middle;\n",
       "    }\n",
       "\n",
       "    .dataframe tbody tr th {\n",
       "        vertical-align: top;\n",
       "    }\n",
       "\n",
       "    .dataframe thead th {\n",
       "        text-align: right;\n",
       "    }\n",
       "</style>\n",
       "<table border=\"1\" class=\"dataframe\">\n",
       "  <thead>\n",
       "    <tr style=\"text-align: right;\">\n",
       "      <th></th>\n",
       "      <th>Day</th>\n",
       "      <th>Coffee Type</th>\n",
       "      <th>Units Sold</th>\n",
       "      <th>price</th>\n",
       "      <th>revenue</th>\n",
       "      <th>yesterday_revenue</th>\n",
       "    </tr>\n",
       "  </thead>\n",
       "  <tbody>\n",
       "    <tr>\n",
       "      <th>0</th>\n",
       "      <td>Monday</td>\n",
       "      <td>Espresso</td>\n",
       "      <td>NaN</td>\n",
       "      <td>3.99</td>\n",
       "      <td>NaN</td>\n",
       "      <td>NaN</td>\n",
       "    </tr>\n",
       "    <tr>\n",
       "      <th>1</th>\n",
       "      <td>Monday</td>\n",
       "      <td>Latte</td>\n",
       "      <td>NaN</td>\n",
       "      <td>5.99</td>\n",
       "      <td>NaN</td>\n",
       "      <td>NaN</td>\n",
       "    </tr>\n",
       "    <tr>\n",
       "      <th>2</th>\n",
       "      <td>Tuesday</td>\n",
       "      <td>Espresso</td>\n",
       "      <td>30.0</td>\n",
       "      <td>3.99</td>\n",
       "      <td>119.70</td>\n",
       "      <td>NaN</td>\n",
       "    </tr>\n",
       "    <tr>\n",
       "      <th>3</th>\n",
       "      <td>Tuesday</td>\n",
       "      <td>Latte</td>\n",
       "      <td>20.0</td>\n",
       "      <td>5.99</td>\n",
       "      <td>119.80</td>\n",
       "      <td>NaN</td>\n",
       "    </tr>\n",
       "    <tr>\n",
       "      <th>4</th>\n",
       "      <td>Wednesday</td>\n",
       "      <td>Espresso</td>\n",
       "      <td>35.0</td>\n",
       "      <td>3.99</td>\n",
       "      <td>139.65</td>\n",
       "      <td>119.70</td>\n",
       "    </tr>\n",
       "    <tr>\n",
       "      <th>5</th>\n",
       "      <td>Wednesday</td>\n",
       "      <td>Latte</td>\n",
       "      <td>25.0</td>\n",
       "      <td>5.99</td>\n",
       "      <td>149.75</td>\n",
       "      <td>119.80</td>\n",
       "    </tr>\n",
       "    <tr>\n",
       "      <th>6</th>\n",
       "      <td>Thursday</td>\n",
       "      <td>Espresso</td>\n",
       "      <td>40.0</td>\n",
       "      <td>3.99</td>\n",
       "      <td>159.60</td>\n",
       "      <td>139.65</td>\n",
       "    </tr>\n",
       "    <tr>\n",
       "      <th>7</th>\n",
       "      <td>Thursday</td>\n",
       "      <td>Latte</td>\n",
       "      <td>30.0</td>\n",
       "      <td>5.99</td>\n",
       "      <td>179.70</td>\n",
       "      <td>149.75</td>\n",
       "    </tr>\n",
       "    <tr>\n",
       "      <th>8</th>\n",
       "      <td>Friday</td>\n",
       "      <td>Espresso</td>\n",
       "      <td>45.0</td>\n",
       "      <td>3.99</td>\n",
       "      <td>179.55</td>\n",
       "      <td>159.60</td>\n",
       "    </tr>\n",
       "    <tr>\n",
       "      <th>9</th>\n",
       "      <td>Friday</td>\n",
       "      <td>Latte</td>\n",
       "      <td>35.0</td>\n",
       "      <td>5.99</td>\n",
       "      <td>209.65</td>\n",
       "      <td>179.70</td>\n",
       "    </tr>\n",
       "    <tr>\n",
       "      <th>10</th>\n",
       "      <td>Saturday</td>\n",
       "      <td>Espresso</td>\n",
       "      <td>45.0</td>\n",
       "      <td>3.99</td>\n",
       "      <td>179.55</td>\n",
       "      <td>179.55</td>\n",
       "    </tr>\n",
       "    <tr>\n",
       "      <th>11</th>\n",
       "      <td>Saturday</td>\n",
       "      <td>Latte</td>\n",
       "      <td>35.0</td>\n",
       "      <td>5.99</td>\n",
       "      <td>209.65</td>\n",
       "      <td>209.65</td>\n",
       "    </tr>\n",
       "    <tr>\n",
       "      <th>12</th>\n",
       "      <td>Sunday</td>\n",
       "      <td>Espresso</td>\n",
       "      <td>45.0</td>\n",
       "      <td>3.99</td>\n",
       "      <td>179.55</td>\n",
       "      <td>179.55</td>\n",
       "    </tr>\n",
       "    <tr>\n",
       "      <th>13</th>\n",
       "      <td>Sunday</td>\n",
       "      <td>Latte</td>\n",
       "      <td>35.0</td>\n",
       "      <td>5.99</td>\n",
       "      <td>209.65</td>\n",
       "      <td>209.65</td>\n",
       "    </tr>\n",
       "  </tbody>\n",
       "</table>\n",
       "</div>"
      ],
      "text/plain": [
       "          Day Coffee Type  Units Sold  price  revenue  yesterday_revenue\n",
       "0      Monday    Espresso         NaN   3.99      NaN                NaN\n",
       "1      Monday       Latte         NaN   5.99      NaN                NaN\n",
       "2     Tuesday    Espresso        30.0   3.99   119.70                NaN\n",
       "3     Tuesday       Latte        20.0   5.99   119.80                NaN\n",
       "4   Wednesday    Espresso        35.0   3.99   139.65             119.70\n",
       "5   Wednesday       Latte        25.0   5.99   149.75             119.80\n",
       "6    Thursday    Espresso        40.0   3.99   159.60             139.65\n",
       "7    Thursday       Latte        30.0   5.99   179.70             149.75\n",
       "8      Friday    Espresso        45.0   3.99   179.55             159.60\n",
       "9      Friday       Latte        35.0   5.99   209.65             179.70\n",
       "10   Saturday    Espresso        45.0   3.99   179.55             179.55\n",
       "11   Saturday       Latte        35.0   5.99   209.65             209.65\n",
       "12     Sunday    Espresso        45.0   3.99   179.55             179.55\n",
       "13     Sunday       Latte        35.0   5.99   209.65             209.65"
      ]
     },
     "execution_count": 19,
     "metadata": {},
     "output_type": "execute_result"
    }
   ],
   "source": [
    "#Adavanced functionality--> .shift() , .rank(), .rolling(),.cumsum()\n",
    "coffee['yesterday_revenue']=coffee['revenue'].shift(2)\n",
    "coffee"
   ]
  },
  {
   "cell_type": "code",
   "execution_count": 22,
   "id": "f27e22f4",
   "metadata": {},
   "outputs": [
    {
     "data": {
      "application/vnd.microsoft.datawrangler.viewer.v0+json": {
       "columns": [
        {
         "name": "index",
         "rawType": "int64",
         "type": "integer"
        },
        {
         "name": "Day",
         "rawType": "object",
         "type": "string"
        },
        {
         "name": "Coffee Type",
         "rawType": "object",
         "type": "string"
        },
        {
         "name": "Units Sold",
         "rawType": "float64",
         "type": "float"
        },
        {
         "name": "price",
         "rawType": "float64",
         "type": "float"
        },
        {
         "name": "revenue",
         "rawType": "float64",
         "type": "float"
        },
        {
         "name": "yesterday_revenue",
         "rawType": "float64",
         "type": "float"
        },
        {
         "name": "pct_change",
         "rawType": "float64",
         "type": "float"
        }
       ],
       "ref": "1d83658f-b86a-4422-b8d2-127027d5ed87",
       "rows": [
        [
         "0",
         "Monday",
         "Espresso",
         null,
         "3.99",
         null,
         null,
         null
        ],
        [
         "1",
         "Monday",
         "Latte",
         null,
         "5.99",
         null,
         null,
         null
        ],
        [
         "2",
         "Tuesday",
         "Espresso",
         "30.0",
         "3.99",
         "119.7",
         null,
         null
        ],
        [
         "3",
         "Tuesday",
         "Latte",
         "20.0",
         "5.99",
         "119.80000000000001",
         null,
         null
        ],
        [
         "4",
         "Wednesday",
         "Espresso",
         "35.0",
         "3.99",
         "139.65",
         "119.7",
         "116.66666666666667"
        ],
        [
         "5",
         "Wednesday",
         "Latte",
         "25.0",
         "5.99",
         "149.75",
         "119.80000000000001",
         "124.99999999999997"
        ],
        [
         "6",
         "Thursday",
         "Espresso",
         "40.0",
         "3.99",
         "159.60000000000002",
         "139.65",
         "114.2857142857143"
        ],
        [
         "7",
         "Thursday",
         "Latte",
         "30.0",
         "5.99",
         "179.70000000000002",
         "149.75",
         "120.00000000000001"
        ],
        [
         "8",
         "Friday",
         "Espresso",
         "45.0",
         "3.99",
         "179.55",
         "159.60000000000002",
         "112.5"
        ],
        [
         "9",
         "Friday",
         "Latte",
         "35.0",
         "5.99",
         "209.65",
         "179.70000000000002",
         "116.66666666666666"
        ],
        [
         "10",
         "Saturday",
         "Espresso",
         "45.0",
         "3.99",
         "179.55",
         "179.55",
         "100.0"
        ],
        [
         "11",
         "Saturday",
         "Latte",
         "35.0",
         "5.99",
         "209.65",
         "209.65",
         "100.0"
        ],
        [
         "12",
         "Sunday",
         "Espresso",
         "45.0",
         "3.99",
         "179.55",
         "179.55",
         "100.0"
        ],
        [
         "13",
         "Sunday",
         "Latte",
         "35.0",
         "5.99",
         "209.65",
         "209.65",
         "100.0"
        ]
       ],
       "shape": {
        "columns": 7,
        "rows": 14
       }
      },
      "text/html": [
       "<div>\n",
       "<style scoped>\n",
       "    .dataframe tbody tr th:only-of-type {\n",
       "        vertical-align: middle;\n",
       "    }\n",
       "\n",
       "    .dataframe tbody tr th {\n",
       "        vertical-align: top;\n",
       "    }\n",
       "\n",
       "    .dataframe thead th {\n",
       "        text-align: right;\n",
       "    }\n",
       "</style>\n",
       "<table border=\"1\" class=\"dataframe\">\n",
       "  <thead>\n",
       "    <tr style=\"text-align: right;\">\n",
       "      <th></th>\n",
       "      <th>Day</th>\n",
       "      <th>Coffee Type</th>\n",
       "      <th>Units Sold</th>\n",
       "      <th>price</th>\n",
       "      <th>revenue</th>\n",
       "      <th>yesterday_revenue</th>\n",
       "      <th>pct_change</th>\n",
       "    </tr>\n",
       "  </thead>\n",
       "  <tbody>\n",
       "    <tr>\n",
       "      <th>0</th>\n",
       "      <td>Monday</td>\n",
       "      <td>Espresso</td>\n",
       "      <td>NaN</td>\n",
       "      <td>3.99</td>\n",
       "      <td>NaN</td>\n",
       "      <td>NaN</td>\n",
       "      <td>NaN</td>\n",
       "    </tr>\n",
       "    <tr>\n",
       "      <th>1</th>\n",
       "      <td>Monday</td>\n",
       "      <td>Latte</td>\n",
       "      <td>NaN</td>\n",
       "      <td>5.99</td>\n",
       "      <td>NaN</td>\n",
       "      <td>NaN</td>\n",
       "      <td>NaN</td>\n",
       "    </tr>\n",
       "    <tr>\n",
       "      <th>2</th>\n",
       "      <td>Tuesday</td>\n",
       "      <td>Espresso</td>\n",
       "      <td>30.0</td>\n",
       "      <td>3.99</td>\n",
       "      <td>119.70</td>\n",
       "      <td>NaN</td>\n",
       "      <td>NaN</td>\n",
       "    </tr>\n",
       "    <tr>\n",
       "      <th>3</th>\n",
       "      <td>Tuesday</td>\n",
       "      <td>Latte</td>\n",
       "      <td>20.0</td>\n",
       "      <td>5.99</td>\n",
       "      <td>119.80</td>\n",
       "      <td>NaN</td>\n",
       "      <td>NaN</td>\n",
       "    </tr>\n",
       "    <tr>\n",
       "      <th>4</th>\n",
       "      <td>Wednesday</td>\n",
       "      <td>Espresso</td>\n",
       "      <td>35.0</td>\n",
       "      <td>3.99</td>\n",
       "      <td>139.65</td>\n",
       "      <td>119.70</td>\n",
       "      <td>116.666667</td>\n",
       "    </tr>\n",
       "    <tr>\n",
       "      <th>5</th>\n",
       "      <td>Wednesday</td>\n",
       "      <td>Latte</td>\n",
       "      <td>25.0</td>\n",
       "      <td>5.99</td>\n",
       "      <td>149.75</td>\n",
       "      <td>119.80</td>\n",
       "      <td>125.000000</td>\n",
       "    </tr>\n",
       "    <tr>\n",
       "      <th>6</th>\n",
       "      <td>Thursday</td>\n",
       "      <td>Espresso</td>\n",
       "      <td>40.0</td>\n",
       "      <td>3.99</td>\n",
       "      <td>159.60</td>\n",
       "      <td>139.65</td>\n",
       "      <td>114.285714</td>\n",
       "    </tr>\n",
       "    <tr>\n",
       "      <th>7</th>\n",
       "      <td>Thursday</td>\n",
       "      <td>Latte</td>\n",
       "      <td>30.0</td>\n",
       "      <td>5.99</td>\n",
       "      <td>179.70</td>\n",
       "      <td>149.75</td>\n",
       "      <td>120.000000</td>\n",
       "    </tr>\n",
       "    <tr>\n",
       "      <th>8</th>\n",
       "      <td>Friday</td>\n",
       "      <td>Espresso</td>\n",
       "      <td>45.0</td>\n",
       "      <td>3.99</td>\n",
       "      <td>179.55</td>\n",
       "      <td>159.60</td>\n",
       "      <td>112.500000</td>\n",
       "    </tr>\n",
       "    <tr>\n",
       "      <th>9</th>\n",
       "      <td>Friday</td>\n",
       "      <td>Latte</td>\n",
       "      <td>35.0</td>\n",
       "      <td>5.99</td>\n",
       "      <td>209.65</td>\n",
       "      <td>179.70</td>\n",
       "      <td>116.666667</td>\n",
       "    </tr>\n",
       "    <tr>\n",
       "      <th>10</th>\n",
       "      <td>Saturday</td>\n",
       "      <td>Espresso</td>\n",
       "      <td>45.0</td>\n",
       "      <td>3.99</td>\n",
       "      <td>179.55</td>\n",
       "      <td>179.55</td>\n",
       "      <td>100.000000</td>\n",
       "    </tr>\n",
       "    <tr>\n",
       "      <th>11</th>\n",
       "      <td>Saturday</td>\n",
       "      <td>Latte</td>\n",
       "      <td>35.0</td>\n",
       "      <td>5.99</td>\n",
       "      <td>209.65</td>\n",
       "      <td>209.65</td>\n",
       "      <td>100.000000</td>\n",
       "    </tr>\n",
       "    <tr>\n",
       "      <th>12</th>\n",
       "      <td>Sunday</td>\n",
       "      <td>Espresso</td>\n",
       "      <td>45.0</td>\n",
       "      <td>3.99</td>\n",
       "      <td>179.55</td>\n",
       "      <td>179.55</td>\n",
       "      <td>100.000000</td>\n",
       "    </tr>\n",
       "    <tr>\n",
       "      <th>13</th>\n",
       "      <td>Sunday</td>\n",
       "      <td>Latte</td>\n",
       "      <td>35.0</td>\n",
       "      <td>5.99</td>\n",
       "      <td>209.65</td>\n",
       "      <td>209.65</td>\n",
       "      <td>100.000000</td>\n",
       "    </tr>\n",
       "  </tbody>\n",
       "</table>\n",
       "</div>"
      ],
      "text/plain": [
       "          Day Coffee Type  Units Sold  price  revenue  yesterday_revenue  \\\n",
       "0      Monday    Espresso         NaN   3.99      NaN                NaN   \n",
       "1      Monday       Latte         NaN   5.99      NaN                NaN   \n",
       "2     Tuesday    Espresso        30.0   3.99   119.70                NaN   \n",
       "3     Tuesday       Latte        20.0   5.99   119.80                NaN   \n",
       "4   Wednesday    Espresso        35.0   3.99   139.65             119.70   \n",
       "5   Wednesday       Latte        25.0   5.99   149.75             119.80   \n",
       "6    Thursday    Espresso        40.0   3.99   159.60             139.65   \n",
       "7    Thursday       Latte        30.0   5.99   179.70             149.75   \n",
       "8      Friday    Espresso        45.0   3.99   179.55             159.60   \n",
       "9      Friday       Latte        35.0   5.99   209.65             179.70   \n",
       "10   Saturday    Espresso        45.0   3.99   179.55             179.55   \n",
       "11   Saturday       Latte        35.0   5.99   209.65             209.65   \n",
       "12     Sunday    Espresso        45.0   3.99   179.55             179.55   \n",
       "13     Sunday       Latte        35.0   5.99   209.65             209.65   \n",
       "\n",
       "    pct_change  \n",
       "0          NaN  \n",
       "1          NaN  \n",
       "2          NaN  \n",
       "3          NaN  \n",
       "4   116.666667  \n",
       "5   125.000000  \n",
       "6   114.285714  \n",
       "7   120.000000  \n",
       "8   112.500000  \n",
       "9   116.666667  \n",
       "10  100.000000  \n",
       "11  100.000000  \n",
       "12  100.000000  \n",
       "13  100.000000  "
      ]
     },
     "execution_count": 22,
     "metadata": {},
     "output_type": "execute_result"
    }
   ],
   "source": [
    "coffee['pct_change']=coffee['revenue']/coffee['yesterday_revenue']*100\n",
    "coffee"
   ]
  },
  {
   "cell_type": "code",
   "execution_count": 24,
   "id": "6c5c2208",
   "metadata": {},
   "outputs": [
    {
     "data": {
      "application/vnd.microsoft.datawrangler.viewer.v0+json": {
       "columns": [
        {
         "name": "index",
         "rawType": "int64",
         "type": "integer"
        },
        {
         "name": "athlete_id",
         "rawType": "int64",
         "type": "integer"
        },
        {
         "name": "name",
         "rawType": "object",
         "type": "string"
        },
        {
         "name": "born_date",
         "rawType": "object",
         "type": "unknown"
        },
        {
         "name": "born_city",
         "rawType": "object",
         "type": "unknown"
        },
        {
         "name": "born_region",
         "rawType": "object",
         "type": "unknown"
        },
        {
         "name": "born_country",
         "rawType": "object",
         "type": "unknown"
        },
        {
         "name": "NOC",
         "rawType": "object",
         "type": "unknown"
        },
        {
         "name": "height_cm",
         "rawType": "float64",
         "type": "float"
        },
        {
         "name": "weight_kg",
         "rawType": "float64",
         "type": "float"
        },
        {
         "name": "died_date",
         "rawType": "object",
         "type": "unknown"
        },
        {
         "name": "height_rank",
         "rawType": "float64",
         "type": "float"
        }
       ],
       "ref": "5352910f-5c5d-443e-9e8b-80eebf40bed9",
       "rows": [
        [
         "89070",
         "89782",
         "Yao Ming",
         "1980-09-12",
         "Xuhui District",
         "Shanghai",
         "CHN",
         "People's Republic of China",
         "226.0",
         "141.0",
         null,
         "106651.0"
        ],
        [
         "6978",
         "7013",
         "Arvydas Sabonis",
         "1964-12-19",
         "Kaunas",
         "Kaunas",
         "LTU",
         "Lithuania Soviet Union",
         "223.0",
         "122.0",
         null,
         "106649.5"
        ],
        [
         "5781",
         "5804",
         "Tommy Burleson",
         "1952-02-24",
         "Crossnore",
         "North Carolina",
         "USA",
         "United States",
         "223.0",
         "102.0",
         null,
         "106649.5"
        ],
        [
         "89075",
         "89787",
         "Roberto Dueñas",
         "1975-11-01",
         "Madrid",
         "Madrid",
         "ESP",
         "Spain",
         "221.0",
         "137.0",
         null,
         "106647.0"
        ],
        [
         "120266",
         "122147",
         "Zhang Zhaoxu",
         "1987-11-18",
         "Binzhou",
         "Shandong",
         "CHN",
         "People's Republic of China",
         "221.0",
         "110.0",
         null,
         "106647.0"
        ],
        [
         "5673",
         "5696",
         "Gunther Behnke",
         "1963-01-19",
         "Leverkusen",
         "Nordrhein-Westfalen",
         "GER",
         "Germany",
         "221.0",
         "114.0",
         null,
         "106647.0"
        ],
        [
         "6504",
         "6537",
         "Luc Longley",
         "1969-01-19",
         "Melbourne",
         "Victoria",
         "AUS",
         "Australia",
         "220.0",
         "135.0",
         null,
         "106644.0"
        ],
        [
         "7188",
         "7226",
         "Vladimir Tkachenko",
         "1957-09-20",
         "Golovinka",
         "Krasnodar Kray",
         "RUS",
         "Soviet Union",
         "220.0",
         "110.0",
         null,
         "106644.0"
        ],
        [
         "5089",
         "5108",
         "Viktor Pankrashkin",
         "1957-06-19",
         "Moskva (Moscow)",
         "Moskva",
         "RUS",
         "Soviet Union",
         "220.0",
         "112.0",
         "1993-07-24",
         "106644.0"
        ],
        [
         "107408",
         "108533",
         "Peter John Ramos",
         "1985-05-23",
         "Fajardo",
         "Puerto Rico",
         "PUR",
         "Puerto Rico",
         "219.0",
         "113.0",
         null,
         "106641.5"
        ],
        [
         "118676",
         "120415",
         "Dmitry Musersky",
         "1988-10-29",
         "Makiïvka",
         "Donetsk",
         "UKR",
         "Russian Federation",
         "219.0",
         "104.0",
         null,
         "106641.5"
        ],
        [
         "139365",
         "142836",
         "Moustapha Fall",
         "1992-02-23",
         "Paris",
         "Paris",
         "FRA",
         "France",
         "218.0",
         null,
         null,
         "106636.5"
        ],
        [
         "82100",
         "82753",
         "Frédéric Weis",
         "1977-06-22",
         "Thionville",
         "Moselle",
         "FRA",
         "France",
         "218.0",
         "110.0",
         null,
         "106636.5"
        ],
        [
         "5716",
         "5739",
         "Uwe Blab",
         "1962-03-26",
         "München (Munich)",
         "Bayern",
         "GER",
         "Germany West Germany",
         "218.0",
         "110.0",
         null,
         "106636.5"
        ],
        [
         "5796",
         "5819",
         "Andy Campbell",
         "1956-07-21",
         "Melbourne",
         "Victoria",
         "AUS",
         "Australia",
         "218.0",
         "93.0",
         null,
         "106636.5"
        ],
        [
         "130460",
         "133147",
         "Li Muhao",
         "1992-06-02",
         "Guiyang",
         "Guizhou",
         "CHN",
         "People's Republic of China",
         "218.0",
         "115.0",
         null,
         "106636.5"
        ],
        [
         "112337",
         "113593",
         "Hamed Haddadi",
         "1985-05-19",
         "Ahvaz",
         "Khuzestan",
         "IRI",
         "Islamic Republic of Iran",
         "218.0",
         "110.0",
         null,
         "106636.5"
        ],
        [
         "7376",
         "7416",
         "Eurelijus Žukauskas",
         "1973-08-22",
         "Klaipėda",
         "Klaipėda",
         "LTU",
         "Lithuania",
         "218.0",
         "115.0",
         null,
         "106636.5"
        ],
        [
         "6420",
         "6451",
         "Jānis Krūmiņš",
         "1930-01-30",
         "Cēsis",
         "Cēsu novads",
         "LAT",
         "Soviet Union",
         "218.0",
         "141.0",
         "1994-11-20",
         "106636.5"
        ],
        [
         "7074",
         "7111",
         "Paulo da Silva",
         "1963-07-21",
         "São Paulo",
         "São Paulo",
         "BRA",
         "Brazil",
         "217.0",
         "106.0",
         null,
         "106629.5"
        ],
        [
         "5583",
         "5606",
         " Paulinho Villas Boas",
         "1963-01-26",
         "São Paulo",
         "São Paulo",
         "BRA",
         "Brazil",
         "217.0",
         "106.0",
         null,
         "106629.5"
        ],
        [
         "7281",
         "7320",
         "Stojko Vranković",
         "1964-01-22",
         "Drniš",
         "Šibensko-kninska županija",
         "CRO",
         "Croatia Yugoslavia",
         "217.0",
         "115.0",
         null,
         "106629.5"
        ],
        [
         "52608",
         "52983",
         "Aleksey Kazakov",
         "1976-03-18",
         "Naberezhnye Chelny",
         "Respublika Tatarstan",
         "RUS",
         "Russian Federation",
         "217.0",
         "102.0",
         null,
         "106629.5"
        ],
        [
         "130461",
         "133148",
         "Zhou Qi",
         "1996-01-16",
         "Xinxiang",
         "Henan",
         "CHN",
         "People's Republic of China",
         "217.0",
         "95.0",
         null,
         "106629.5"
        ],
        [
         "112312",
         "113568",
         "Stanko Barać",
         "1986-08-13",
         "Mostar",
         "Hercegovačko-neretvanski kanton",
         "BIH",
         "Croatia",
         "217.0",
         "110.0",
         null,
         "106629.5"
        ],
        [
         "123850",
         "126093",
         "Tyson Chandler",
         "1982-10-02",
         "Hanford",
         "California",
         "USA",
         "United States",
         "216.0",
         "107.0",
         null,
         "106621.5"
        ],
        [
         "6223",
         "6250",
         "Lars Hansen",
         "1954-09-27",
         "København (Copenhagen)",
         "Hovedstaden",
         "DEN",
         "Canada",
         "216.0",
         "105.0",
         null,
         "106621.5"
        ],
        [
         "6409",
         "6440",
         "Sergey Kovalenko",
         "1947-08-11",
         null,
         null,
         null,
         "Soviet Union",
         "216.0",
         "111.0",
         "2004-11-18",
         "106621.5"
        ],
        [
         "6270",
         "6298",
         "Hu Zhangbao",
         "1963-04-05",
         null,
         null,
         null,
         "People's Republic of China",
         "216.0",
         "135.0",
         null,
         "106621.5"
        ],
        [
         "121694",
         "123709",
         "Salah Mejri",
         "1986-06-15",
         "Jendouba",
         "Jendouba",
         "TUN",
         "Tunisia",
         "216.0",
         "110.0",
         null,
         "106621.5"
        ],
        [
         "6722",
         "6755",
         "Shaquille O'Neal",
         "1972-03-06",
         "Newark",
         "New Jersey",
         "USA",
         "United States",
         "216.0",
         "137.0",
         null,
         "106621.5"
        ],
        [
         "118663",
         "120400",
         "Timofey Mozgov",
         "1986-07-16",
         null,
         null,
         null,
         "Russian Federation",
         "216.0",
         "113.0",
         null,
         "106621.5"
        ],
        [
         "138671",
         "142084",
         "Ondřej Balvín",
         "1992-09-20",
         "Ústí nad Labem",
         "Ústecký kraj",
         "CZE",
         "Czechia",
         "216.0",
         "107.0",
         null,
         "106621.5"
        ],
        [
         "6937",
         "6972",
         "David Robinson",
         "1965-08-06",
         "Key West",
         "Florida",
         "USA",
         "United States",
         "216.0",
         "107.0",
         null,
         "106621.5"
        ],
        [
         "112332",
         "113588",
         "Andreas Glyniadakis",
         "1981-08-26",
         "Chania",
         "Kriti",
         "GRE",
         "Greece",
         "216.0",
         "115.0",
         null,
         "106621.5"
        ],
        [
         "107369",
         "108494",
         "Pau Gasol",
         "1980-07-06",
         "Barcelona",
         "Barcelona",
         "ESP",
         "Spain",
         "215.0",
         "115.0",
         null,
         "106610.5"
        ],
        [
         "131058",
         "133820",
         "Rudy Gobert",
         "1992-06-26",
         "Saint-Quentin",
         "Aisne",
         "FRA",
         "France",
         "215.0",
         "113.0",
         null,
         "106610.5"
        ],
        [
         "112358",
         "113614",
         "Aleksey Savrasenko",
         "1979-02-28",
         "Krasnodar",
         "Krasnodar Kray",
         "RUS",
         "Russian Federation",
         "215.0",
         "118.0",
         null,
         "106610.5"
        ],
        [
         "82105",
         "82758",
         "Gregor Fucka",
         "1971-08-07",
         "Kranj",
         "Kranj",
         "SLO",
         "Italy",
         "215.0",
         "98.0",
         null,
         "106610.5"
        ],
        [
         "112330",
         "113586",
         "Ioannis Bourousis",
         "1983-11-17",
         "Karditsa",
         "Thessalia",
         "GRE",
         "Greece",
         "215.0",
         "108.0",
         null,
         "106610.5"
        ],
        [
         "7056",
         "7093",
         "Shan Tao",
         "1970-05-30",
         "Tangshan",
         "Hebei",
         "CHN",
         "People's Republic of China",
         "215.0",
         "120.0",
         null,
         "106610.5"
        ],
        [
         "52520",
         "52894",
         "Marcin Nowak",
         "1975-10-17",
         "Częstochowa",
         "Śląskie",
         "POL",
         "Poland",
         "215.0",
         "105.0",
         null,
         "106610.5"
        ],
        [
         "52604",
         "52979",
         "Stanislav Dineykin",
         "1973-10-10",
         "Blagodarny",
         "Stavropol Kray",
         "RUS",
         "Russian Federation",
         "215.0",
         "101.0",
         null,
         "106610.5"
        ],
        [
         "141018",
         "144554",
         "Yuta Watanabe",
         "1994-10-13",
         "Ayauta district",
         "Kagawa",
         "JPN",
         "Japan",
         "215.0",
         "97.0",
         null,
         "106610.5"
        ],
        [
         "7298",
         "7337",
         "Wang Zhizhi",
         "1977-07-08",
         "Beijing",
         "Beijing",
         "CHN",
         "People's Republic of China",
         "215.0",
         "110.0",
         null,
         "106610.5"
        ],
        [
         "112327",
         "113583",
         "Patrick Femerling",
         "1975-03-04",
         "Hamburg",
         "Hamburg",
         "GER",
         "Germany",
         "215.0",
         "118.0",
         null,
         "106610.5"
        ],
        [
         "5599",
         "5622",
         "Vladimir Andreyev",
         "1945-06-14",
         "Astrakhan",
         "Astrakhan",
         "RUS",
         "Soviet Union",
         "215.0",
         "90.0",
         null,
         "106610.5"
        ],
        [
         "107411",
         "108536",
         "Nenad Krstić",
         "1983-07-25",
         "Kraljevo",
         "Raška",
         "SRB",
         "Serbia and Montenegro",
         "214.0",
         "108.0",
         null,
         "106598.0"
        ],
        [
         "107538",
         "108670",
         "Mark Dragunski",
         "1970-12-22",
         "Recklinghausen",
         "Nordrhein-Westfalen",
         "GER",
         "Germany",
         "214.0",
         "126.0",
         null,
         "106598.0"
        ],
        [
         "59248",
         "59674",
         "Adam Sandurski",
         "1953-02-08",
         null,
         null,
         null,
         "Poland",
         "214.0",
         "135.0",
         null,
         "106598.0"
        ]
       ],
       "shape": {
        "columns": 11,
        "rows": 145500
       }
      },
      "text/html": [
       "<div>\n",
       "<style scoped>\n",
       "    .dataframe tbody tr th:only-of-type {\n",
       "        vertical-align: middle;\n",
       "    }\n",
       "\n",
       "    .dataframe tbody tr th {\n",
       "        vertical-align: top;\n",
       "    }\n",
       "\n",
       "    .dataframe thead th {\n",
       "        text-align: right;\n",
       "    }\n",
       "</style>\n",
       "<table border=\"1\" class=\"dataframe\">\n",
       "  <thead>\n",
       "    <tr style=\"text-align: right;\">\n",
       "      <th></th>\n",
       "      <th>athlete_id</th>\n",
       "      <th>name</th>\n",
       "      <th>born_date</th>\n",
       "      <th>born_city</th>\n",
       "      <th>born_region</th>\n",
       "      <th>born_country</th>\n",
       "      <th>NOC</th>\n",
       "      <th>height_cm</th>\n",
       "      <th>weight_kg</th>\n",
       "      <th>died_date</th>\n",
       "      <th>height_rank</th>\n",
       "    </tr>\n",
       "  </thead>\n",
       "  <tbody>\n",
       "    <tr>\n",
       "      <th>89070</th>\n",
       "      <td>89782</td>\n",
       "      <td>Yao Ming</td>\n",
       "      <td>1980-09-12</td>\n",
       "      <td>Xuhui District</td>\n",
       "      <td>Shanghai</td>\n",
       "      <td>CHN</td>\n",
       "      <td>People's Republic of China</td>\n",
       "      <td>226.0</td>\n",
       "      <td>141.0</td>\n",
       "      <td>NaN</td>\n",
       "      <td>106651.0</td>\n",
       "    </tr>\n",
       "    <tr>\n",
       "      <th>6978</th>\n",
       "      <td>7013</td>\n",
       "      <td>Arvydas Sabonis</td>\n",
       "      <td>1964-12-19</td>\n",
       "      <td>Kaunas</td>\n",
       "      <td>Kaunas</td>\n",
       "      <td>LTU</td>\n",
       "      <td>Lithuania Soviet Union</td>\n",
       "      <td>223.0</td>\n",
       "      <td>122.0</td>\n",
       "      <td>NaN</td>\n",
       "      <td>106649.5</td>\n",
       "    </tr>\n",
       "    <tr>\n",
       "      <th>5781</th>\n",
       "      <td>5804</td>\n",
       "      <td>Tommy Burleson</td>\n",
       "      <td>1952-02-24</td>\n",
       "      <td>Crossnore</td>\n",
       "      <td>North Carolina</td>\n",
       "      <td>USA</td>\n",
       "      <td>United States</td>\n",
       "      <td>223.0</td>\n",
       "      <td>102.0</td>\n",
       "      <td>NaN</td>\n",
       "      <td>106649.5</td>\n",
       "    </tr>\n",
       "    <tr>\n",
       "      <th>89075</th>\n",
       "      <td>89787</td>\n",
       "      <td>Roberto Dueñas</td>\n",
       "      <td>1975-11-01</td>\n",
       "      <td>Madrid</td>\n",
       "      <td>Madrid</td>\n",
       "      <td>ESP</td>\n",
       "      <td>Spain</td>\n",
       "      <td>221.0</td>\n",
       "      <td>137.0</td>\n",
       "      <td>NaN</td>\n",
       "      <td>106647.0</td>\n",
       "    </tr>\n",
       "    <tr>\n",
       "      <th>120266</th>\n",
       "      <td>122147</td>\n",
       "      <td>Zhang Zhaoxu</td>\n",
       "      <td>1987-11-18</td>\n",
       "      <td>Binzhou</td>\n",
       "      <td>Shandong</td>\n",
       "      <td>CHN</td>\n",
       "      <td>People's Republic of China</td>\n",
       "      <td>221.0</td>\n",
       "      <td>110.0</td>\n",
       "      <td>NaN</td>\n",
       "      <td>106647.0</td>\n",
       "    </tr>\n",
       "    <tr>\n",
       "      <th>...</th>\n",
       "      <td>...</td>\n",
       "      <td>...</td>\n",
       "      <td>...</td>\n",
       "      <td>...</td>\n",
       "      <td>...</td>\n",
       "      <td>...</td>\n",
       "      <td>...</td>\n",
       "      <td>...</td>\n",
       "      <td>...</td>\n",
       "      <td>...</td>\n",
       "      <td>...</td>\n",
       "    </tr>\n",
       "    <tr>\n",
       "      <th>145490</th>\n",
       "      <td>149217</td>\n",
       "      <td>Sin Ye-Chan</td>\n",
       "      <td>1995-06-13</td>\n",
       "      <td>NaN</td>\n",
       "      <td>NaN</td>\n",
       "      <td>NaN</td>\n",
       "      <td>Republic of Korea</td>\n",
       "      <td>NaN</td>\n",
       "      <td>NaN</td>\n",
       "      <td>NaN</td>\n",
       "      <td>NaN</td>\n",
       "    </tr>\n",
       "    <tr>\n",
       "      <th>145491</th>\n",
       "      <td>149218</td>\n",
       "      <td>Matthew Wepke</td>\n",
       "      <td>1989-12-05</td>\n",
       "      <td>NaN</td>\n",
       "      <td>NaN</td>\n",
       "      <td>NaN</td>\n",
       "      <td>Jamaica</td>\n",
       "      <td>NaN</td>\n",
       "      <td>NaN</td>\n",
       "      <td>NaN</td>\n",
       "      <td>NaN</td>\n",
       "    </tr>\n",
       "    <tr>\n",
       "      <th>145492</th>\n",
       "      <td>149219</td>\n",
       "      <td>Carlos García-Ordóñez</td>\n",
       "      <td>1927-04-24</td>\n",
       "      <td>La Habana (Havana)</td>\n",
       "      <td>Ciudad de La Habana</td>\n",
       "      <td>CUB</td>\n",
       "      <td>Cuba</td>\n",
       "      <td>NaN</td>\n",
       "      <td>NaN</td>\n",
       "      <td>2019-11-24</td>\n",
       "      <td>NaN</td>\n",
       "    </tr>\n",
       "    <tr>\n",
       "      <th>145493</th>\n",
       "      <td>149220</td>\n",
       "      <td>Landysh Falyakhova</td>\n",
       "      <td>1998-08-31</td>\n",
       "      <td>Dva Polya Artash</td>\n",
       "      <td>Respublika Tatarstan</td>\n",
       "      <td>RUS</td>\n",
       "      <td>ROC</td>\n",
       "      <td>NaN</td>\n",
       "      <td>NaN</td>\n",
       "      <td>NaN</td>\n",
       "      <td>NaN</td>\n",
       "    </tr>\n",
       "    <tr>\n",
       "      <th>145499</th>\n",
       "      <td>149814</td>\n",
       "      <td>Bill Phillips</td>\n",
       "      <td>1913-07-15</td>\n",
       "      <td>Dulwich Hill</td>\n",
       "      <td>New South Wales</td>\n",
       "      <td>AUS</td>\n",
       "      <td>Australia</td>\n",
       "      <td>NaN</td>\n",
       "      <td>NaN</td>\n",
       "      <td>2003-10-20</td>\n",
       "      <td>NaN</td>\n",
       "    </tr>\n",
       "  </tbody>\n",
       "</table>\n",
       "<p>145500 rows × 11 columns</p>\n",
       "</div>"
      ],
      "text/plain": [
       "        athlete_id                   name   born_date           born_city  \\\n",
       "89070        89782               Yao Ming  1980-09-12      Xuhui District   \n",
       "6978          7013        Arvydas Sabonis  1964-12-19              Kaunas   \n",
       "5781          5804         Tommy Burleson  1952-02-24           Crossnore   \n",
       "89075        89787         Roberto Dueñas  1975-11-01              Madrid   \n",
       "120266      122147           Zhang Zhaoxu  1987-11-18             Binzhou   \n",
       "...            ...                    ...         ...                 ...   \n",
       "145490      149217            Sin Ye-Chan  1995-06-13                 NaN   \n",
       "145491      149218          Matthew Wepke  1989-12-05                 NaN   \n",
       "145492      149219  Carlos García-Ordóñez  1927-04-24  La Habana (Havana)   \n",
       "145493      149220     Landysh Falyakhova  1998-08-31    Dva Polya Artash   \n",
       "145499      149814          Bill Phillips  1913-07-15        Dulwich Hill   \n",
       "\n",
       "                 born_region born_country                         NOC  \\\n",
       "89070               Shanghai          CHN  People's Republic of China   \n",
       "6978                  Kaunas          LTU      Lithuania Soviet Union   \n",
       "5781          North Carolina          USA               United States   \n",
       "89075                 Madrid          ESP                       Spain   \n",
       "120266              Shandong          CHN  People's Republic of China   \n",
       "...                      ...          ...                         ...   \n",
       "145490                   NaN          NaN           Republic of Korea   \n",
       "145491                   NaN          NaN                     Jamaica   \n",
       "145492   Ciudad de La Habana          CUB                        Cuba   \n",
       "145493  Respublika Tatarstan          RUS                         ROC   \n",
       "145499       New South Wales          AUS                   Australia   \n",
       "\n",
       "        height_cm  weight_kg   died_date  height_rank  \n",
       "89070       226.0      141.0         NaN     106651.0  \n",
       "6978        223.0      122.0         NaN     106649.5  \n",
       "5781        223.0      102.0         NaN     106649.5  \n",
       "89075       221.0      137.0         NaN     106647.0  \n",
       "120266      221.0      110.0         NaN     106647.0  \n",
       "...           ...        ...         ...          ...  \n",
       "145490        NaN        NaN         NaN          NaN  \n",
       "145491        NaN        NaN         NaN          NaN  \n",
       "145492        NaN        NaN  2019-11-24          NaN  \n",
       "145493        NaN        NaN         NaN          NaN  \n",
       "145499        NaN        NaN  2003-10-20          NaN  \n",
       "\n",
       "[145500 rows x 11 columns]"
      ]
     },
     "execution_count": 24,
     "metadata": {},
     "output_type": "execute_result"
    }
   ],
   "source": [
    "bios['height_rank']=bios['height_cm'].rank()\n",
    "bios.sort_values(['height_rank'],ascending=False)"
   ]
  },
  {
   "cell_type": "code",
   "execution_count": null,
   "id": "e8f90e2d",
   "metadata": {},
   "outputs": [],
   "source": []
  }
 ],
 "metadata": {
  "kernelspec": {
   "display_name": "Python 3",
   "language": "python",
   "name": "python3"
  },
  "language_info": {
   "codemirror_mode": {
    "name": "ipython",
    "version": 3
   },
   "file_extension": ".py",
   "mimetype": "text/x-python",
   "name": "python",
   "nbconvert_exporter": "python",
   "pygments_lexer": "ipython3",
   "version": "3.12.6"
  }
 },
 "nbformat": 4,
 "nbformat_minor": 5
}
