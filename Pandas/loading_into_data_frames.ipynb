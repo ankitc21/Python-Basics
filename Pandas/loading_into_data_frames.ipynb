{
 "cells": [
  {
   "cell_type": "code",
   "execution_count": 11,
   "id": "7cde6a48",
   "metadata": {},
   "outputs": [
    {
     "data": {
      "application/vnd.microsoft.datawrangler.viewer.v0+json": {
       "columns": [
        {
         "name": "index",
         "rawType": "int64",
         "type": "integer"
        },
        {
         "name": "Day",
         "rawType": "object",
         "type": "string"
        },
        {
         "name": "Coffee Type",
         "rawType": "object",
         "type": "string"
        },
        {
         "name": "Units Sold",
         "rawType": "int64",
         "type": "integer"
        }
       ],
       "ref": "ade7240d-8574-4c47-8f9c-7424eeb3fb8c",
       "rows": [
        [
         "0",
         "Monday",
         "Espresso",
         "25"
        ],
        [
         "1",
         "Monday",
         "Latte",
         "15"
        ],
        [
         "2",
         "Tuesday",
         "Espresso",
         "30"
        ],
        [
         "3",
         "Tuesday",
         "Latte",
         "20"
        ],
        [
         "4",
         "Wednesday",
         "Espresso",
         "35"
        ]
       ],
       "shape": {
        "columns": 3,
        "rows": 5
       }
      },
      "text/html": [
       "<div>\n",
       "<style scoped>\n",
       "    .dataframe tbody tr th:only-of-type {\n",
       "        vertical-align: middle;\n",
       "    }\n",
       "\n",
       "    .dataframe tbody tr th {\n",
       "        vertical-align: top;\n",
       "    }\n",
       "\n",
       "    .dataframe thead th {\n",
       "        text-align: right;\n",
       "    }\n",
       "</style>\n",
       "<table border=\"1\" class=\"dataframe\">\n",
       "  <thead>\n",
       "    <tr style=\"text-align: right;\">\n",
       "      <th></th>\n",
       "      <th>Day</th>\n",
       "      <th>Coffee Type</th>\n",
       "      <th>Units Sold</th>\n",
       "    </tr>\n",
       "  </thead>\n",
       "  <tbody>\n",
       "    <tr>\n",
       "      <th>0</th>\n",
       "      <td>Monday</td>\n",
       "      <td>Espresso</td>\n",
       "      <td>25</td>\n",
       "    </tr>\n",
       "    <tr>\n",
       "      <th>1</th>\n",
       "      <td>Monday</td>\n",
       "      <td>Latte</td>\n",
       "      <td>15</td>\n",
       "    </tr>\n",
       "    <tr>\n",
       "      <th>2</th>\n",
       "      <td>Tuesday</td>\n",
       "      <td>Espresso</td>\n",
       "      <td>30</td>\n",
       "    </tr>\n",
       "    <tr>\n",
       "      <th>3</th>\n",
       "      <td>Tuesday</td>\n",
       "      <td>Latte</td>\n",
       "      <td>20</td>\n",
       "    </tr>\n",
       "    <tr>\n",
       "      <th>4</th>\n",
       "      <td>Wednesday</td>\n",
       "      <td>Espresso</td>\n",
       "      <td>35</td>\n",
       "    </tr>\n",
       "  </tbody>\n",
       "</table>\n",
       "</div>"
      ],
      "text/plain": [
       "         Day Coffee Type  Units Sold\n",
       "0     Monday    Espresso          25\n",
       "1     Monday       Latte          15\n",
       "2    Tuesday    Espresso          30\n",
       "3    Tuesday       Latte          20\n",
       "4  Wednesday    Espresso          35"
      ]
     },
     "execution_count": 11,
     "metadata": {},
     "output_type": "execute_result"
    }
   ],
   "source": [
    "import pandas as pd\n",
    "coffee=pd.read_csv(r'C:\\Users\\ankit\\Desktop\\Projects\\Data Science\\Pandas\\Data\\coffee.csv')\n",
    "coffee.head()"
   ]
  },
  {
   "cell_type": "code",
   "execution_count": 27,
   "id": "eb54bafa",
   "metadata": {},
   "outputs": [
    {
     "data": {
      "application/vnd.microsoft.datawrangler.viewer.v0+json": {
       "columns": [
        {
         "name": "index",
         "rawType": "int64",
         "type": "integer"
        },
        {
         "name": "year",
         "rawType": "float64",
         "type": "float"
        },
        {
         "name": "type",
         "rawType": "object",
         "type": "string"
        },
        {
         "name": "discipline",
         "rawType": "object",
         "type": "string"
        },
        {
         "name": "event",
         "rawType": "object",
         "type": "string"
        },
        {
         "name": "as",
         "rawType": "object",
         "type": "string"
        },
        {
         "name": "athlete_id",
         "rawType": "int64",
         "type": "integer"
        },
        {
         "name": "noc",
         "rawType": "object",
         "type": "string"
        },
        {
         "name": "team",
         "rawType": "object",
         "type": "unknown"
        },
        {
         "name": "place",
         "rawType": "float64",
         "type": "float"
        },
        {
         "name": "tied",
         "rawType": "bool",
         "type": "boolean"
        },
        {
         "name": "medal",
         "rawType": "object",
         "type": "unknown"
        }
       ],
       "ref": "6a90a57b-68e6-48d1-84a7-6298002e61d6",
       "rows": [
        [
         "0",
         "1912.0",
         "Summer",
         "Tennis",
         "Singles, Men (Olympic)",
         "Jean-François Blanchy",
         "1",
         "FRA",
         null,
         "17.0",
         "True",
         null
        ],
        [
         "1",
         "1912.0",
         "Summer",
         "Tennis",
         "Doubles, Men (Olympic)",
         "Jean-François Blanchy",
         "1",
         "FRA",
         "Jean Montariol",
         null,
         "False",
         null
        ],
        [
         "2",
         "1920.0",
         "Summer",
         "Tennis",
         "Singles, Men (Olympic)",
         "Jean-François Blanchy",
         "1",
         "FRA",
         null,
         "32.0",
         "True",
         null
        ],
        [
         "3",
         "1920.0",
         "Summer",
         "Tennis",
         "Doubles, Mixed (Olympic)",
         "Jean-François Blanchy",
         "1",
         "FRA",
         "Jeanne Vaussard",
         "8.0",
         "True",
         null
        ],
        [
         "4",
         "1920.0",
         "Summer",
         "Tennis",
         "Doubles, Men (Olympic)",
         "Jean-François Blanchy",
         "1",
         "FRA",
         "Jacques Brugnon",
         "4.0",
         "False",
         null
        ]
       ],
       "shape": {
        "columns": 11,
        "rows": 5
       }
      },
      "text/html": [
       "<div>\n",
       "<style scoped>\n",
       "    .dataframe tbody tr th:only-of-type {\n",
       "        vertical-align: middle;\n",
       "    }\n",
       "\n",
       "    .dataframe tbody tr th {\n",
       "        vertical-align: top;\n",
       "    }\n",
       "\n",
       "    .dataframe thead th {\n",
       "        text-align: right;\n",
       "    }\n",
       "</style>\n",
       "<table border=\"1\" class=\"dataframe\">\n",
       "  <thead>\n",
       "    <tr style=\"text-align: right;\">\n",
       "      <th></th>\n",
       "      <th>year</th>\n",
       "      <th>type</th>\n",
       "      <th>discipline</th>\n",
       "      <th>event</th>\n",
       "      <th>as</th>\n",
       "      <th>athlete_id</th>\n",
       "      <th>noc</th>\n",
       "      <th>team</th>\n",
       "      <th>place</th>\n",
       "      <th>tied</th>\n",
       "      <th>medal</th>\n",
       "    </tr>\n",
       "  </thead>\n",
       "  <tbody>\n",
       "    <tr>\n",
       "      <th>0</th>\n",
       "      <td>1912.0</td>\n",
       "      <td>Summer</td>\n",
       "      <td>Tennis</td>\n",
       "      <td>Singles, Men (Olympic)</td>\n",
       "      <td>Jean-François Blanchy</td>\n",
       "      <td>1</td>\n",
       "      <td>FRA</td>\n",
       "      <td>NaN</td>\n",
       "      <td>17.0</td>\n",
       "      <td>True</td>\n",
       "      <td>NaN</td>\n",
       "    </tr>\n",
       "    <tr>\n",
       "      <th>1</th>\n",
       "      <td>1912.0</td>\n",
       "      <td>Summer</td>\n",
       "      <td>Tennis</td>\n",
       "      <td>Doubles, Men (Olympic)</td>\n",
       "      <td>Jean-François Blanchy</td>\n",
       "      <td>1</td>\n",
       "      <td>FRA</td>\n",
       "      <td>Jean Montariol</td>\n",
       "      <td>NaN</td>\n",
       "      <td>False</td>\n",
       "      <td>NaN</td>\n",
       "    </tr>\n",
       "    <tr>\n",
       "      <th>2</th>\n",
       "      <td>1920.0</td>\n",
       "      <td>Summer</td>\n",
       "      <td>Tennis</td>\n",
       "      <td>Singles, Men (Olympic)</td>\n",
       "      <td>Jean-François Blanchy</td>\n",
       "      <td>1</td>\n",
       "      <td>FRA</td>\n",
       "      <td>NaN</td>\n",
       "      <td>32.0</td>\n",
       "      <td>True</td>\n",
       "      <td>NaN</td>\n",
       "    </tr>\n",
       "    <tr>\n",
       "      <th>3</th>\n",
       "      <td>1920.0</td>\n",
       "      <td>Summer</td>\n",
       "      <td>Tennis</td>\n",
       "      <td>Doubles, Mixed (Olympic)</td>\n",
       "      <td>Jean-François Blanchy</td>\n",
       "      <td>1</td>\n",
       "      <td>FRA</td>\n",
       "      <td>Jeanne Vaussard</td>\n",
       "      <td>8.0</td>\n",
       "      <td>True</td>\n",
       "      <td>NaN</td>\n",
       "    </tr>\n",
       "    <tr>\n",
       "      <th>4</th>\n",
       "      <td>1920.0</td>\n",
       "      <td>Summer</td>\n",
       "      <td>Tennis</td>\n",
       "      <td>Doubles, Men (Olympic)</td>\n",
       "      <td>Jean-François Blanchy</td>\n",
       "      <td>1</td>\n",
       "      <td>FRA</td>\n",
       "      <td>Jacques Brugnon</td>\n",
       "      <td>4.0</td>\n",
       "      <td>False</td>\n",
       "      <td>NaN</td>\n",
       "    </tr>\n",
       "  </tbody>\n",
       "</table>\n",
       "</div>"
      ],
      "text/plain": [
       "     year    type discipline                     event                     as  \\\n",
       "0  1912.0  Summer     Tennis    Singles, Men (Olympic)  Jean-François Blanchy   \n",
       "1  1912.0  Summer     Tennis    Doubles, Men (Olympic)  Jean-François Blanchy   \n",
       "2  1920.0  Summer     Tennis    Singles, Men (Olympic)  Jean-François Blanchy   \n",
       "3  1920.0  Summer     Tennis  Doubles, Mixed (Olympic)  Jean-François Blanchy   \n",
       "4  1920.0  Summer     Tennis    Doubles, Men (Olympic)  Jean-François Blanchy   \n",
       "\n",
       "   athlete_id  noc             team  place   tied medal  \n",
       "0           1  FRA              NaN   17.0   True   NaN  \n",
       "1           1  FRA   Jean Montariol    NaN  False   NaN  \n",
       "2           1  FRA              NaN   32.0   True   NaN  \n",
       "3           1  FRA  Jeanne Vaussard    8.0   True   NaN  \n",
       "4           1  FRA  Jacques Brugnon    4.0  False   NaN  "
      ]
     },
     "execution_count": 27,
     "metadata": {},
     "output_type": "execute_result"
    }
   ],
   "source": [
    "olympics = pd.read_excel(r'C:\\Users\\ankit\\Desktop\\Projects\\Data Science\\Pandas\\Data\\olympics-data.xlsx',sheet_name=\"results\")\n",
    "olympics.head()"
   ]
  },
  {
   "cell_type": "code",
   "execution_count": 26,
   "id": "70ad3eab",
   "metadata": {},
   "outputs": [
    {
     "data": {
      "application/vnd.microsoft.datawrangler.viewer.v0+json": {
       "columns": [
        {
         "name": "index",
         "rawType": "int64",
         "type": "integer"
        },
        {
         "name": "year",
         "rawType": "float64",
         "type": "float"
        },
        {
         "name": "type",
         "rawType": "object",
         "type": "string"
        },
        {
         "name": "discipline",
         "rawType": "object",
         "type": "string"
        },
        {
         "name": "event",
         "rawType": "object",
         "type": "string"
        },
        {
         "name": "as",
         "rawType": "object",
         "type": "string"
        },
        {
         "name": "athlete_id",
         "rawType": "int64",
         "type": "integer"
        },
        {
         "name": "noc",
         "rawType": "object",
         "type": "string"
        },
        {
         "name": "team",
         "rawType": "object",
         "type": "unknown"
        },
        {
         "name": "place",
         "rawType": "float64",
         "type": "float"
        },
        {
         "name": "tied",
         "rawType": "bool",
         "type": "boolean"
        },
        {
         "name": "medal",
         "rawType": "object",
         "type": "unknown"
        }
       ],
       "ref": "9c6e5058-e039-4a9f-8e22-ca21fc405657",
       "rows": [
        [
         "0",
         "1912.0",
         "Summer",
         "Tennis",
         "Singles, Men (Olympic)",
         "Jean-François Blanchy",
         "1",
         "FRA",
         null,
         "17.0",
         "True",
         null
        ],
        [
         "1",
         "1912.0",
         "Summer",
         "Tennis",
         "Doubles, Men (Olympic)",
         "Jean-François Blanchy",
         "1",
         "FRA",
         "Jean Montariol",
         null,
         "False",
         null
        ],
        [
         "2",
         "1920.0",
         "Summer",
         "Tennis",
         "Singles, Men (Olympic)",
         "Jean-François Blanchy",
         "1",
         "FRA",
         null,
         "32.0",
         "True",
         null
        ],
        [
         "3",
         "1920.0",
         "Summer",
         "Tennis",
         "Doubles, Mixed (Olympic)",
         "Jean-François Blanchy",
         "1",
         "FRA",
         "Jeanne Vaussard",
         "8.0",
         "True",
         null
        ],
        [
         "4",
         "1920.0",
         "Summer",
         "Tennis",
         "Doubles, Men (Olympic)",
         "Jean-François Blanchy",
         "1",
         "FRA",
         "Jacques Brugnon",
         "4.0",
         "False",
         null
        ]
       ],
       "shape": {
        "columns": 11,
        "rows": 5
       }
      },
      "text/html": [
       "<div>\n",
       "<style scoped>\n",
       "    .dataframe tbody tr th:only-of-type {\n",
       "        vertical-align: middle;\n",
       "    }\n",
       "\n",
       "    .dataframe tbody tr th {\n",
       "        vertical-align: top;\n",
       "    }\n",
       "\n",
       "    .dataframe thead th {\n",
       "        text-align: right;\n",
       "    }\n",
       "</style>\n",
       "<table border=\"1\" class=\"dataframe\">\n",
       "  <thead>\n",
       "    <tr style=\"text-align: right;\">\n",
       "      <th></th>\n",
       "      <th>year</th>\n",
       "      <th>type</th>\n",
       "      <th>discipline</th>\n",
       "      <th>event</th>\n",
       "      <th>as</th>\n",
       "      <th>athlete_id</th>\n",
       "      <th>noc</th>\n",
       "      <th>team</th>\n",
       "      <th>place</th>\n",
       "      <th>tied</th>\n",
       "      <th>medal</th>\n",
       "    </tr>\n",
       "  </thead>\n",
       "  <tbody>\n",
       "    <tr>\n",
       "      <th>0</th>\n",
       "      <td>1912.0</td>\n",
       "      <td>Summer</td>\n",
       "      <td>Tennis</td>\n",
       "      <td>Singles, Men (Olympic)</td>\n",
       "      <td>Jean-François Blanchy</td>\n",
       "      <td>1</td>\n",
       "      <td>FRA</td>\n",
       "      <td>None</td>\n",
       "      <td>17.0</td>\n",
       "      <td>True</td>\n",
       "      <td>None</td>\n",
       "    </tr>\n",
       "    <tr>\n",
       "      <th>1</th>\n",
       "      <td>1912.0</td>\n",
       "      <td>Summer</td>\n",
       "      <td>Tennis</td>\n",
       "      <td>Doubles, Men (Olympic)</td>\n",
       "      <td>Jean-François Blanchy</td>\n",
       "      <td>1</td>\n",
       "      <td>FRA</td>\n",
       "      <td>Jean Montariol</td>\n",
       "      <td>NaN</td>\n",
       "      <td>False</td>\n",
       "      <td>None</td>\n",
       "    </tr>\n",
       "    <tr>\n",
       "      <th>2</th>\n",
       "      <td>1920.0</td>\n",
       "      <td>Summer</td>\n",
       "      <td>Tennis</td>\n",
       "      <td>Singles, Men (Olympic)</td>\n",
       "      <td>Jean-François Blanchy</td>\n",
       "      <td>1</td>\n",
       "      <td>FRA</td>\n",
       "      <td>None</td>\n",
       "      <td>32.0</td>\n",
       "      <td>True</td>\n",
       "      <td>None</td>\n",
       "    </tr>\n",
       "    <tr>\n",
       "      <th>3</th>\n",
       "      <td>1920.0</td>\n",
       "      <td>Summer</td>\n",
       "      <td>Tennis</td>\n",
       "      <td>Doubles, Mixed (Olympic)</td>\n",
       "      <td>Jean-François Blanchy</td>\n",
       "      <td>1</td>\n",
       "      <td>FRA</td>\n",
       "      <td>Jeanne Vaussard</td>\n",
       "      <td>8.0</td>\n",
       "      <td>True</td>\n",
       "      <td>None</td>\n",
       "    </tr>\n",
       "    <tr>\n",
       "      <th>4</th>\n",
       "      <td>1920.0</td>\n",
       "      <td>Summer</td>\n",
       "      <td>Tennis</td>\n",
       "      <td>Doubles, Men (Olympic)</td>\n",
       "      <td>Jean-François Blanchy</td>\n",
       "      <td>1</td>\n",
       "      <td>FRA</td>\n",
       "      <td>Jacques Brugnon</td>\n",
       "      <td>4.0</td>\n",
       "      <td>False</td>\n",
       "      <td>None</td>\n",
       "    </tr>\n",
       "  </tbody>\n",
       "</table>\n",
       "</div>"
      ],
      "text/plain": [
       "     year    type discipline                     event                     as  \\\n",
       "0  1912.0  Summer     Tennis    Singles, Men (Olympic)  Jean-François Blanchy   \n",
       "1  1912.0  Summer     Tennis    Doubles, Men (Olympic)  Jean-François Blanchy   \n",
       "2  1920.0  Summer     Tennis    Singles, Men (Olympic)  Jean-François Blanchy   \n",
       "3  1920.0  Summer     Tennis  Doubles, Mixed (Olympic)  Jean-François Blanchy   \n",
       "4  1920.0  Summer     Tennis    Doubles, Men (Olympic)  Jean-François Blanchy   \n",
       "\n",
       "   athlete_id  noc             team  place   tied medal  \n",
       "0           1  FRA             None   17.0   True  None  \n",
       "1           1  FRA   Jean Montariol    NaN  False  None  \n",
       "2           1  FRA             None   32.0   True  None  \n",
       "3           1  FRA  Jeanne Vaussard    8.0   True  None  \n",
       "4           1  FRA  Jacques Brugnon    4.0  False  None  "
      ]
     },
     "execution_count": 26,
     "metadata": {},
     "output_type": "execute_result"
    }
   ],
   "source": [
    "\n",
    "results=pd.read_parquet(r'C:\\Users\\ankit\\Desktop\\Projects\\Data Science\\Pandas\\Data\\results.parquet')\n",
    "results.head()\n",
    "# Display the first few rows of the results dataframe"
   ]
  }
 ],
 "metadata": {
  "kernelspec": {
   "display_name": "Python 3",
   "language": "python",
   "name": "python3"
  },
  "language_info": {
   "codemirror_mode": {
    "name": "ipython",
    "version": 3
   },
   "file_extension": ".py",
   "mimetype": "text/x-python",
   "name": "python",
   "nbconvert_exporter": "python",
   "pygments_lexer": "ipython3",
   "version": "3.12.6"
  }
 },
 "nbformat": 4,
 "nbformat_minor": 5
}
